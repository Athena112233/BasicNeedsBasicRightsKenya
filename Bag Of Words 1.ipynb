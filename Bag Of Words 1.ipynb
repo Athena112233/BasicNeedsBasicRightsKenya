{
 "cells": [
  {
   "cell_type": "code",
   "execution_count": 1,
   "metadata": {},
   "outputs": [],
   "source": [
    "import pandas as pd\n",
    "import numpy as np\n",
    "import matplotlib.pyplot as plt\n",
    "import os\n",
    "\n",
    "from sklearn.model_selection import train_test_split\n",
    "\n",
    "from sklearn.svm import LinearSVC\n",
    "\n",
    "from sklearn.naive_bayes import MultinomialNB\n",
    "from sklearn.naive_bayes import GaussianNB\n",
    "\n",
    "from sklearn.linear_model import LogisticRegression\n",
    "from sklearn.linear_model import SGDClassifier\n",
    "from sklearn.ensemble import RandomForestClassifier\n",
    "from sklearn.neighbors import KNeighborsClassifier\n",
    "\n",
    "from sklearn.feature_selection import chi2\n",
    "from sklearn.feature_extraction.text import CountVectorizer\n",
    "from sklearn.feature_extraction.text import TfidfVectorizer\n",
    "from sklearn.feature_extraction.text import TfidfTransformer\n",
    "\n",
    "from sklearn.metrics import log_loss\n",
    "from sklearn.calibration import CalibratedClassifierCV"
   ]
  },
  {
   "cell_type": "code",
   "execution_count": 2,
   "metadata": {},
   "outputs": [
    {
     "data": {
      "text/html": [
       "<div>\n",
       "<style scoped>\n",
       "    .dataframe tbody tr th:only-of-type {\n",
       "        vertical-align: middle;\n",
       "    }\n",
       "\n",
       "    .dataframe tbody tr th {\n",
       "        vertical-align: top;\n",
       "    }\n",
       "\n",
       "    .dataframe thead th {\n",
       "        text-align: right;\n",
       "    }\n",
       "</style>\n",
       "<table border=\"1\" class=\"dataframe\">\n",
       "  <thead>\n",
       "    <tr style=\"text-align: right;\">\n",
       "      <th></th>\n",
       "      <th>ID</th>\n",
       "      <th>text</th>\n",
       "      <th>label</th>\n",
       "    </tr>\n",
       "  </thead>\n",
       "  <tbody>\n",
       "    <tr>\n",
       "      <td>0</td>\n",
       "      <td>SUAVK39Z</td>\n",
       "      <td>I feel better I dieAm happy</td>\n",
       "      <td>Depression</td>\n",
       "    </tr>\n",
       "    <tr>\n",
       "      <td>1</td>\n",
       "      <td>9JDAGUV3</td>\n",
       "      <td>Why I get hallucinations</td>\n",
       "      <td>Drugs</td>\n",
       "    </tr>\n",
       "    <tr>\n",
       "      <td>2</td>\n",
       "      <td>419WR1LQ</td>\n",
       "      <td>I stresseed due lack financial support school</td>\n",
       "      <td>Depression</td>\n",
       "    </tr>\n",
       "    <tr>\n",
       "      <td>3</td>\n",
       "      <td>6UY7DX6Q</td>\n",
       "      <td>Why life important</td>\n",
       "      <td>Suicide</td>\n",
       "    </tr>\n",
       "    <tr>\n",
       "      <td>4</td>\n",
       "      <td>FYC0FTFB</td>\n",
       "      <td>How could I helped go depression</td>\n",
       "      <td>Depression</td>\n",
       "    </tr>\n",
       "    <tr>\n",
       "      <td>...</td>\n",
       "      <td>...</td>\n",
       "      <td>...</td>\n",
       "      <td>...</td>\n",
       "    </tr>\n",
       "    <tr>\n",
       "      <td>611</td>\n",
       "      <td>BOHSNXCN</td>\n",
       "      <td>What I stop alcoholism</td>\n",
       "      <td>Alcohol</td>\n",
       "    </tr>\n",
       "    <tr>\n",
       "      <td>612</td>\n",
       "      <td>GVDXRQPY</td>\n",
       "      <td>How become oldself</td>\n",
       "      <td>Suicide</td>\n",
       "    </tr>\n",
       "    <tr>\n",
       "      <td>613</td>\n",
       "      <td>IO4JHIQS</td>\n",
       "      <td>How someone stop</td>\n",
       "      <td>Alcohol</td>\n",
       "    </tr>\n",
       "    <tr>\n",
       "      <td>614</td>\n",
       "      <td>1DS3P1XO</td>\n",
       "      <td>I feel unworthy</td>\n",
       "      <td>Depression</td>\n",
       "    </tr>\n",
       "    <tr>\n",
       "      <td>615</td>\n",
       "      <td>ORF71PVQ</td>\n",
       "      <td>I feel discouraged life</td>\n",
       "      <td>Depression</td>\n",
       "    </tr>\n",
       "  </tbody>\n",
       "</table>\n",
       "<p>616 rows × 3 columns</p>\n",
       "</div>"
      ],
      "text/plain": [
       "           ID                                           text       label\n",
       "0    SUAVK39Z                    I feel better I dieAm happy  Depression\n",
       "1    9JDAGUV3                       Why I get hallucinations       Drugs\n",
       "2    419WR1LQ  I stresseed due lack financial support school  Depression\n",
       "3    6UY7DX6Q                             Why life important     Suicide\n",
       "4    FYC0FTFB               How could I helped go depression  Depression\n",
       "..        ...                                            ...         ...\n",
       "611  BOHSNXCN                         What I stop alcoholism     Alcohol\n",
       "612  GVDXRQPY                             How become oldself     Suicide\n",
       "613  IO4JHIQS                               How someone stop     Alcohol\n",
       "614  1DS3P1XO                                I feel unworthy  Depression\n",
       "615  ORF71PVQ                        I feel discouraged life  Depression\n",
       "\n",
       "[616 rows x 3 columns]"
      ]
     },
     "execution_count": 2,
     "metadata": {},
     "output_type": "execute_result"
    }
   ],
   "source": [
    "#train = pd.read_csv('data/train.csv')\n",
    "train = pd.read_csv('data/clean.txt').drop(columns=['Unnamed: 0'])\n",
    "train"
   ]
  },
  {
   "cell_type": "code",
   "execution_count": 3,
   "metadata": {},
   "outputs": [],
   "source": [
    "x_value = train['text']\n",
    "y_value = train['label']#.replace({'Depression': 0, 'Drugs': 1, 'Suicide': 2, 'Alcohol': 4})\n",
    "x_train, x_test, y_train, y_test = train_test_split(x_value, y_value, test_size=0.25)"
   ]
  },
  {
   "cell_type": "code",
   "execution_count": 16,
   "metadata": {},
   "outputs": [],
   "source": [
    "#depress = x_train[x_train['label'] == 'Depression']\n",
    "#drugs = x_train[x_train['label'] == 'Drugs']\n",
    "#suic = x_train[x_train['label'] == 'Suicide']\n",
    "#alc = x_train[x_train['label'] == 'Alcohol']"
   ]
  },
  {
   "cell_type": "code",
   "execution_count": 17,
   "metadata": {},
   "outputs": [
    {
     "data": {
      "image/png": "[encoded data removed]",
      "text/plain": [
       "<Figure size 576x432 with 1 Axes>"
      ]
     },
     "metadata": {
      "needs_background": "light"
     },
     "output_type": "display_data"
    }
   ],
   "source": [
    "fig = plt.figure(figsize=(8,6))\n",
    "train.groupby('label').text.count().plot.bar(ylim=0)\n",
    "plt.show()"
   ]
  },
  {
   "cell_type": "code",
   "execution_count": 4,
   "metadata": {},
   "outputs": [],
   "source": [
    "tfidf = TfidfVectorizer(sublinear_tf=True, min_df=5, norm='l2', encoding='latin-1',\\\n",
    "                        ngram_range=(1, 2), stop_words='english')\n",
    "#features = tfidf.fit_transform(x_train).toarray()\n",
    "#labels = y_train\n",
    "#features.shape"
   ]
  },
  {
   "cell_type": "code",
   "execution_count": 5,
   "metadata": {},
   "outputs": [],
   "source": [
    "vect = CountVectorizer()\n",
    "#x_train_counts = vect.fit_transform(x_train)\n",
    "#x_train_counts = tfidf.fit_transform(x_train)\n",
    "x_train_counts = tfidf.fit_transform(x_value)\n",
    "tfidf_transformer = TfidfTransformer()\n",
    "x_train_tfidf = tfidf_transformer.fit_transform(x_train_counts)\n",
    "#clf = MultinomialNB().fit(x_train_tfidf, y_value)\n",
    "#clf = LogisticRegression(solver='liblinear',multi_class='auto').fit(x_train_tfidf, y_value)\n",
    "#clf = LinearSVC().fit(x_train_tfidf, y_value)\n",
    "#clf = RandomForestClassifier(n_estimators=20, max_depth=3).fit(x_train_tfidf, y_train)\n",
    "#clf = KNeighborsClassifier().fit(x_train_tfidf, y_train)\n",
    "clf = CalibratedClassifierCV(SGDClassifier(), cv=5).fit(x_train_tfidf, y_value)"
   ]
  },
  {
   "cell_type": "code",
   "execution_count": 23,
   "metadata": {},
   "outputs": [
    {
     "name": "stdout",
     "output_type": "stream",
     "text": [
      "['Depression']\n"
     ]
    }
   ],
   "source": [
    "print(clf.predict(tfidf.transform([\"I feel that it was better I dieAm happy\"])))"
   ]
  },
  {
   "cell_type": "code",
   "execution_count": 24,
   "metadata": {},
   "outputs": [
    {
     "name": "stdout",
     "output_type": "stream",
     "text": [
      "[[-7.33578188e+00 -1.76133209e-03 -7.41367269e+00 -7.59088162e+00]]\n"
     ]
    }
   ],
   "source": [
    "print(clf.predict_log_proba(vect.transform([\"I feel that it was better I dieAm happy\"])))"
   ]
  },
  {
   "cell_type": "code",
   "execution_count": 22,
   "metadata": {},
   "outputs": [
    {
     "name": "stdout",
     "output_type": "stream",
     "text": [
      "[[0.03193173 0.89796692 0.02089027 0.04921108]]\n"
     ]
    }
   ],
   "source": [
    "print(clf.predict_proba(tfidf.transform([\"I feel that it was better I dieAm happy\"])))"
   ]
  },
  {
   "cell_type": "code",
   "execution_count": 10,
   "metadata": {},
   "outputs": [
    {
     "name": "stdout",
     "output_type": "stream",
     "text": [
      "['Alcohol']\n"
     ]
    }
   ],
   "source": [
    "print(clf.predict(tfidf.transform([\"How can someone stop it?\"])))"
   ]
  },
  {
   "cell_type": "code",
   "execution_count": 11,
   "metadata": {},
   "outputs": [
    {
     "name": "stdout",
     "output_type": "stream",
     "text": [
      "[[0.72618845 0.09465294 0.11539234 0.06376627]]\n"
     ]
    }
   ],
   "source": [
    "print(clf.predict_proba(tfidf.transform([\"How can someone stop it?\"])))"
   ]
  },
  {
   "cell_type": "code",
   "execution_count": 12,
   "metadata": {},
   "outputs": [
    {
     "ename": "NotFittedError",
     "evalue": "CountVectorizer - Vocabulary wasn't fitted.",
     "output_type": "error",
     "traceback": [
      "\u001b[1;31m---------------------------------------------------------------------------\u001b[0m",
      "\u001b[1;31mNotFittedError\u001b[0m                            Traceback (most recent call last)",
      "\u001b[1;32m<ipython-input-12-9c6a4d44bab1>\u001b[0m in \u001b[0;36m<module>\u001b[1;34m\u001b[0m\n\u001b[1;32m----> 1\u001b[1;33m \u001b[0mprint\u001b[0m\u001b[1;33m(\u001b[0m\u001b[0mclf\u001b[0m\u001b[1;33m.\u001b[0m\u001b[0mpredict\u001b[0m\u001b[1;33m(\u001b[0m\u001b[0mvect\u001b[0m\u001b[1;33m.\u001b[0m\u001b[0mtransform\u001b[0m\u001b[1;33m(\u001b[0m\u001b[1;33m[\u001b[0m\u001b[1;34m\"Causes of suicide by youths\"\u001b[0m\u001b[1;33m]\u001b[0m\u001b[1;33m)\u001b[0m\u001b[1;33m)\u001b[0m\u001b[1;33m)\u001b[0m\u001b[1;33m\u001b[0m\u001b[1;33m\u001b[0m\u001b[0m\n\u001b[0m",
      "\u001b[1;32m~\\Anaconda3\\lib\\site-packages\\sklearn\\feature_extraction\\text.py\u001b[0m in \u001b[0;36mtransform\u001b[1;34m(self, raw_documents)\u001b[0m\n\u001b[0;32m   1107\u001b[0m             \u001b[0mself\u001b[0m\u001b[1;33m.\u001b[0m\u001b[0m_validate_vocabulary\u001b[0m\u001b[1;33m(\u001b[0m\u001b[1;33m)\u001b[0m\u001b[1;33m\u001b[0m\u001b[1;33m\u001b[0m\u001b[0m\n\u001b[0;32m   1108\u001b[0m \u001b[1;33m\u001b[0m\u001b[0m\n\u001b[1;32m-> 1109\u001b[1;33m         \u001b[0mself\u001b[0m\u001b[1;33m.\u001b[0m\u001b[0m_check_vocabulary\u001b[0m\u001b[1;33m(\u001b[0m\u001b[1;33m)\u001b[0m\u001b[1;33m\u001b[0m\u001b[1;33m\u001b[0m\u001b[0m\n\u001b[0m\u001b[0;32m   1110\u001b[0m \u001b[1;33m\u001b[0m\u001b[0m\n\u001b[0;32m   1111\u001b[0m         \u001b[1;31m# use the same matrix-building strategy as fit_transform\u001b[0m\u001b[1;33m\u001b[0m\u001b[1;33m\u001b[0m\u001b[1;33m\u001b[0m\u001b[0m\n",
      "\u001b[1;32m~\\Anaconda3\\lib\\site-packages\\sklearn\\feature_extraction\\text.py\u001b[0m in \u001b[0;36m_check_vocabulary\u001b[1;34m(self)\u001b[0m\n\u001b[0;32m    387\u001b[0m         \u001b[1;34m\"\"\"Check if vocabulary is empty or missing (not fit-ed)\"\"\"\u001b[0m\u001b[1;33m\u001b[0m\u001b[1;33m\u001b[0m\u001b[0m\n\u001b[0;32m    388\u001b[0m         \u001b[0mmsg\u001b[0m \u001b[1;33m=\u001b[0m \u001b[1;34m\"%(name)s - Vocabulary wasn't fitted.\"\u001b[0m\u001b[1;33m\u001b[0m\u001b[1;33m\u001b[0m\u001b[0m\n\u001b[1;32m--> 389\u001b[1;33m         \u001b[0mcheck_is_fitted\u001b[0m\u001b[1;33m(\u001b[0m\u001b[0mself\u001b[0m\u001b[1;33m,\u001b[0m \u001b[1;34m'vocabulary_'\u001b[0m\u001b[1;33m,\u001b[0m \u001b[0mmsg\u001b[0m\u001b[1;33m=\u001b[0m\u001b[0mmsg\u001b[0m\u001b[1;33m)\u001b[0m\u001b[1;33m,\u001b[0m\u001b[1;33m\u001b[0m\u001b[1;33m\u001b[0m\u001b[0m\n\u001b[0m\u001b[0;32m    390\u001b[0m \u001b[1;33m\u001b[0m\u001b[0m\n\u001b[0;32m    391\u001b[0m         \u001b[1;32mif\u001b[0m \u001b[0mlen\u001b[0m\u001b[1;33m(\u001b[0m\u001b[0mself\u001b[0m\u001b[1;33m.\u001b[0m\u001b[0mvocabulary_\u001b[0m\u001b[1;33m)\u001b[0m \u001b[1;33m==\u001b[0m \u001b[1;36m0\u001b[0m\u001b[1;33m:\u001b[0m\u001b[1;33m\u001b[0m\u001b[1;33m\u001b[0m\u001b[0m\n",
      "\u001b[1;32m~\\Anaconda3\\lib\\site-packages\\sklearn\\utils\\validation.py\u001b[0m in \u001b[0;36mcheck_is_fitted\u001b[1;34m(estimator, attributes, msg, all_or_any)\u001b[0m\n\u001b[0;32m    912\u001b[0m \u001b[1;33m\u001b[0m\u001b[0m\n\u001b[0;32m    913\u001b[0m     \u001b[1;32mif\u001b[0m \u001b[1;32mnot\u001b[0m \u001b[0mall_or_any\u001b[0m\u001b[1;33m(\u001b[0m\u001b[1;33m[\u001b[0m\u001b[0mhasattr\u001b[0m\u001b[1;33m(\u001b[0m\u001b[0mestimator\u001b[0m\u001b[1;33m,\u001b[0m \u001b[0mattr\u001b[0m\u001b[1;33m)\u001b[0m \u001b[1;32mfor\u001b[0m \u001b[0mattr\u001b[0m \u001b[1;32min\u001b[0m \u001b[0mattributes\u001b[0m\u001b[1;33m]\u001b[0m\u001b[1;33m)\u001b[0m\u001b[1;33m:\u001b[0m\u001b[1;33m\u001b[0m\u001b[1;33m\u001b[0m\u001b[0m\n\u001b[1;32m--> 914\u001b[1;33m         \u001b[1;32mraise\u001b[0m \u001b[0mNotFittedError\u001b[0m\u001b[1;33m(\u001b[0m\u001b[0mmsg\u001b[0m \u001b[1;33m%\u001b[0m \u001b[1;33m{\u001b[0m\u001b[1;34m'name'\u001b[0m\u001b[1;33m:\u001b[0m \u001b[0mtype\u001b[0m\u001b[1;33m(\u001b[0m\u001b[0mestimator\u001b[0m\u001b[1;33m)\u001b[0m\u001b[1;33m.\u001b[0m\u001b[0m__name__\u001b[0m\u001b[1;33m}\u001b[0m\u001b[1;33m)\u001b[0m\u001b[1;33m\u001b[0m\u001b[1;33m\u001b[0m\u001b[0m\n\u001b[0m\u001b[0;32m    915\u001b[0m \u001b[1;33m\u001b[0m\u001b[0m\n\u001b[0;32m    916\u001b[0m \u001b[1;33m\u001b[0m\u001b[0m\n",
      "\u001b[1;31mNotFittedError\u001b[0m: CountVectorizer - Vocabulary wasn't fitted."
     ]
    }
   ],
   "source": [
    "print(clf.predict(vect.transform([\"Causes of suicide by youths\"])))"
   ]
  },
  {
   "cell_type": "code",
   "execution_count": 40,
   "metadata": {},
   "outputs": [
    {
     "name": "stdout",
     "output_type": "stream",
     "text": [
      "[[0.19494214 0.25240664 0.01884591 0.53380531]]\n"
     ]
    }
   ],
   "source": [
    "print(clf.predict_proba(vect.transform([\"Causes of suicide by youths\"])))"
   ]
  },
  {
   "cell_type": "code",
   "execution_count": 45,
   "metadata": {},
   "outputs": [
    {
     "name": "stdout",
     "output_type": "stream",
     "text": [
      "['Drugs']\n"
     ]
    }
   ],
   "source": [
    "print(clf.predict(vect.transform([\"What are the effects of smoking bhang?\"])))"
   ]
  },
  {
   "cell_type": "code",
   "execution_count": 46,
   "metadata": {},
   "outputs": [
    {
     "name": "stdout",
     "output_type": "stream",
     "text": [
      "[[0.19589638 0.14940968 0.65248128 0.00221266]]\n"
     ]
    }
   ],
   "source": [
    "print(clf.predict_proba(vect.transform([\"What are the effects of smoking bhang?\"])))"
   ]
  },
  {
   "cell_type": "code",
   "execution_count": 24,
   "metadata": {},
   "outputs": [
    {
     "data": {
      "text/plain": [
       "0.8376623376623377"
      ]
     },
     "execution_count": 24,
     "metadata": {},
     "output_type": "execute_result"
    }
   ],
   "source": [
    "np.count_nonzero(clf.predict(tfidf.transform(x_test)) == y_test)/len(x_test)"
   ]
  },
  {
   "cell_type": "code",
   "execution_count": 25,
   "metadata": {},
   "outputs": [
    {
     "data": {
      "text/plain": [
       "0.8809523809523809"
      ]
     },
     "execution_count": 25,
     "metadata": {},
     "output_type": "execute_result"
    }
   ],
   "source": [
    "np.count_nonzero(clf.predict(tfidf.transform(x_train)) == y_train)/len(x_train)"
   ]
  },
  {
   "cell_type": "code",
   "execution_count": 6,
   "metadata": {},
   "outputs": [
    {
     "data": {
      "text/html": [
       "<div>\n",
       "<style scoped>\n",
       "    .dataframe tbody tr th:only-of-type {\n",
       "        vertical-align: middle;\n",
       "    }\n",
       "\n",
       "    .dataframe tbody tr th {\n",
       "        vertical-align: top;\n",
       "    }\n",
       "\n",
       "    .dataframe thead th {\n",
       "        text-align: right;\n",
       "    }\n",
       "</style>\n",
       "<table border=\"1\" class=\"dataframe\">\n",
       "  <thead>\n",
       "    <tr style=\"text-align: right;\">\n",
       "      <th></th>\n",
       "      <th>ID</th>\n",
       "      <th>text</th>\n",
       "    </tr>\n",
       "  </thead>\n",
       "  <tbody>\n",
       "    <tr>\n",
       "      <td>0</td>\n",
       "      <td>02V56KMO</td>\n",
       "      <td>How to overcome bad feelings and emotions</td>\n",
       "    </tr>\n",
       "    <tr>\n",
       "      <td>1</td>\n",
       "      <td>03BMGTOK</td>\n",
       "      <td>I feel like giving up in life</td>\n",
       "    </tr>\n",
       "    <tr>\n",
       "      <td>2</td>\n",
       "      <td>03LZVFM6</td>\n",
       "      <td>I was so depressed feel like got no strength t...</td>\n",
       "    </tr>\n",
       "    <tr>\n",
       "      <td>3</td>\n",
       "      <td>0EPULUM5</td>\n",
       "      <td>I feel so low especially since I had no one to...</td>\n",
       "    </tr>\n",
       "    <tr>\n",
       "      <td>4</td>\n",
       "      <td>0GM4C5GD</td>\n",
       "      <td>can i be successful when I am a drug addict?</td>\n",
       "    </tr>\n",
       "    <tr>\n",
       "      <td>...</td>\n",
       "      <td>...</td>\n",
       "      <td>...</td>\n",
       "    </tr>\n",
       "    <tr>\n",
       "      <td>304</td>\n",
       "      <td>Z9A6ACLK</td>\n",
       "      <td>Yes</td>\n",
       "    </tr>\n",
       "    <tr>\n",
       "      <td>305</td>\n",
       "      <td>ZDUOIGKN</td>\n",
       "      <td>My girlfriend dumped me</td>\n",
       "    </tr>\n",
       "    <tr>\n",
       "      <td>306</td>\n",
       "      <td>ZHQ60CCH</td>\n",
       "      <td>How can I go back to being my old self?</td>\n",
       "    </tr>\n",
       "    <tr>\n",
       "      <td>307</td>\n",
       "      <td>ZVIJMA4O</td>\n",
       "      <td>Is it true bhang is  medicinal?</td>\n",
       "    </tr>\n",
       "    <tr>\n",
       "      <td>308</td>\n",
       "      <td>ZYIFAY98</td>\n",
       "      <td>how can I overcome the problem?</td>\n",
       "    </tr>\n",
       "  </tbody>\n",
       "</table>\n",
       "<p>309 rows × 2 columns</p>\n",
       "</div>"
      ],
      "text/plain": [
       "           ID                                               text\n",
       "0    02V56KMO          How to overcome bad feelings and emotions\n",
       "1    03BMGTOK                     I feel like giving up in life \n",
       "2    03LZVFM6  I was so depressed feel like got no strength t...\n",
       "3    0EPULUM5  I feel so low especially since I had no one to...\n",
       "4    0GM4C5GD       can i be successful when I am a drug addict?\n",
       "..        ...                                                ...\n",
       "304  Z9A6ACLK                                                Yes\n",
       "305  ZDUOIGKN                            My girlfriend dumped me\n",
       "306  ZHQ60CCH            How can I go back to being my old self?\n",
       "307  ZVIJMA4O                    Is it true bhang is  medicinal?\n",
       "308  ZYIFAY98                    how can I overcome the problem?\n",
       "\n",
       "[309 rows x 2 columns]"
      ]
     },
     "execution_count": 6,
     "metadata": {},
     "output_type": "execute_result"
    }
   ],
   "source": [
    "test = pd.read_csv('data/test.csv')\n",
    "test"
   ]
  },
  {
   "cell_type": "code",
   "execution_count": 7,
   "metadata": {},
   "outputs": [],
   "source": [
    "results = clf.predict_proba(tfidf.transform(test['text']))"
   ]
  },
  {
   "cell_type": "code",
   "execution_count": 8,
   "metadata": {},
   "outputs": [],
   "source": [
    "output = pd.DataFrame(results, columns=['Alcohol', 'Depression', 'Drugs', 'Suicide'])\n",
    "order = ['Depression', 'Alcohol', 'Suicide', 'Drugs']\n",
    "output = output[order]\n",
    "output.insert(0, 'ID', test.ID)"
   ]
  },
  {
   "cell_type": "code",
   "execution_count": 9,
   "metadata": {},
   "outputs": [],
   "source": [
    "output.to_csv('data/output.csv', index=False)"
   ]
  },
  {
   "cell_type": "code",
   "execution_count": null,
   "metadata": {},
   "outputs": [],
   "source": [
    "log_loss(np.array(y_test), clf.predict(tfidf.transform(x_test)), eps=1e-15)"
   ]
  },
  {
   "cell_type": "code",
   "execution_count": 106,
   "metadata": {},
   "outputs": [
    {
     "data": {
      "text/plain": [
       "array(['Depression', 'Depression', 'Drugs', 'Depression', 'Suicide',\n",
       "       'Depression', 'Depression', 'Depression', 'Alcohol', 'Depression',\n",
       "       'Depression', 'Depression', 'Alcohol', 'Alcohol', 'Depression',\n",
       "       'Depression', 'Depression', 'Alcohol', 'Depression', 'Depression',\n",
       "       'Depression', 'Depression', 'Depression', 'Depression',\n",
       "       'Depression', 'Depression', 'Depression', 'Suicide', 'Alcohol',\n",
       "       'Depression', 'Depression', 'Depression', 'Depression',\n",
       "       'Depression', 'Depression', 'Depression', 'Depression',\n",
       "       'Depression', 'Depression', 'Suicide', 'Depression', 'Depression',\n",
       "       'Alcohol', 'Depression', 'Alcohol', 'Depression', 'Depression',\n",
       "       'Depression', 'Depression', 'Depression', 'Alcohol', 'Depression',\n",
       "       'Depression', 'Depression', 'Depression', 'Suicide', 'Drugs',\n",
       "       'Depression', 'Depression', 'Depression', 'Depression', 'Suicide',\n",
       "       'Depression', 'Depression', 'Depression', 'Depression',\n",
       "       'Depression', 'Depression', 'Depression', 'Depression',\n",
       "       'Depression', 'Drugs', 'Alcohol', 'Depression', 'Depression',\n",
       "       'Depression', 'Depression', 'Depression', 'Depression',\n",
       "       'Depression', 'Depression', 'Depression', 'Depression',\n",
       "       'Depression', 'Depression', 'Depression', 'Alcohol', 'Drugs',\n",
       "       'Depression', 'Suicide', 'Alcohol', 'Alcohol', 'Depression',\n",
       "       'Drugs', 'Alcohol', 'Depression', 'Depression', 'Depression',\n",
       "       'Depression', 'Depression', 'Alcohol', 'Depression', 'Depression',\n",
       "       'Depression', 'Drugs', 'Alcohol', 'Suicide', 'Drugs', 'Suicide',\n",
       "       'Depression', 'Depression', 'Depression', 'Depression', 'Alcohol',\n",
       "       'Alcohol', 'Alcohol', 'Depression', 'Depression', 'Alcohol',\n",
       "       'Suicide', 'Depression', 'Depression', 'Depression', 'Depression',\n",
       "       'Alcohol', 'Depression', 'Alcohol', 'Depression', 'Depression',\n",
       "       'Depression', 'Alcohol', 'Depression', 'Depression', 'Depression',\n",
       "       'Alcohol', 'Depression', 'Alcohol', 'Depression', 'Depression',\n",
       "       'Depression', 'Depression', 'Depression', 'Depression', 'Alcohol',\n",
       "       'Alcohol', 'Depression', 'Alcohol', 'Depression', 'Depression',\n",
       "       'Alcohol', 'Alcohol', 'Alcohol', 'Depression', 'Alcohol'],\n",
       "      dtype='<U10')"
      ]
     },
     "execution_count": 106,
     "metadata": {},
     "output_type": "execute_result"
    }
   ],
   "source": [
    "clf.predict(tfidf.transform(x_test))"
   ]
  },
  {
   "cell_type": "code",
   "execution_count": 112,
   "metadata": {},
   "outputs": [
    {
     "data": {
      "text/plain": [
       "array(['Depression', 'Depression', 'Drugs', 'Alcohol', 'Suicide',\n",
       "       'Depression', 'Depression', 'Depression', 'Alcohol', 'Suicide',\n",
       "       'Depression', 'Depression', 'Alcohol', 'Alcohol', 'Depression',\n",
       "       'Depression', 'Suicide', 'Drugs', 'Depression', 'Depression',\n",
       "       'Depression', 'Depression', 'Depression', 'Depression',\n",
       "       'Depression', 'Depression', 'Depression', 'Suicide', 'Alcohol',\n",
       "       'Depression', 'Depression', 'Depression', 'Depression',\n",
       "       'Depression', 'Depression', 'Depression', 'Depression',\n",
       "       'Depression', 'Depression', 'Suicide', 'Suicide', 'Depression',\n",
       "       'Alcohol', 'Alcohol', 'Alcohol', 'Depression', 'Depression',\n",
       "       'Drugs', 'Depression', 'Depression', 'Alcohol', 'Depression',\n",
       "       'Depression', 'Depression', 'Depression', 'Suicide', 'Drugs',\n",
       "       'Depression', 'Depression', 'Depression', 'Depression', 'Suicide',\n",
       "       'Depression', 'Depression', 'Depression', 'Alcohol', 'Depression',\n",
       "       'Depression', 'Depression', 'Depression', 'Depression', 'Drugs',\n",
       "       'Alcohol', 'Depression', 'Depression', 'Depression', 'Depression',\n",
       "       'Depression', 'Depression', 'Depression', 'Depression', 'Alcohol',\n",
       "       'Drugs', 'Depression', 'Suicide', 'Depression', 'Drugs', 'Drugs',\n",
       "       'Suicide', 'Suicide', 'Alcohol', 'Drugs', 'Depression', 'Drugs',\n",
       "       'Alcohol', 'Alcohol', 'Depression', 'Depression', 'Depression',\n",
       "       'Depression', 'Alcohol', 'Drugs', 'Drugs', 'Depression', 'Drugs',\n",
       "       'Alcohol', 'Suicide', 'Drugs', 'Suicide', 'Depression',\n",
       "       'Depression', 'Depression', 'Drugs', 'Alcohol', 'Alcohol',\n",
       "       'Alcohol', 'Depression', 'Depression', 'Alcohol', 'Depression',\n",
       "       'Depression', 'Depression', 'Depression', 'Depression',\n",
       "       'Depression', 'Suicide', 'Alcohol', 'Depression', 'Depression',\n",
       "       'Suicide', 'Alcohol', 'Depression', 'Depression', 'Drugs',\n",
       "       'Alcohol', 'Suicide', 'Alcohol', 'Depression', 'Depression',\n",
       "       'Depression', 'Depression', 'Depression', 'Depression', 'Alcohol',\n",
       "       'Alcohol', 'Suicide', 'Alcohol', 'Depression', 'Alcohol',\n",
       "       'Alcohol', 'Alcohol', 'Alcohol', 'Depression', 'Alcohol'],\n",
       "      dtype=object)"
      ]
     },
     "execution_count": 112,
     "metadata": {},
     "output_type": "execute_result"
    }
   ],
   "source": [
    "np.array(y_test)"
   ]
  },
  {
   "cell_type": "code",
   "execution_count": null,
   "metadata": {},
   "outputs": [],
   "source": []
  }
 ],
 "metadata": {
  "kernelspec": {
   "display_name": "Python 3",
   "language": "python",
   "name": "python3"
  },
  "language_info": {
   "codemirror_mode": {
    "name": "ipython",
    "version": 3
   },
   "file_extension": ".py",
   "mimetype": "text/x-python",
   "name": "python",
   "nbconvert_exporter": "python",
   "pygments_lexer": "ipython3",
   "version": "3.7.4"
  }
 },
 "nbformat": 4,
 "nbformat_minor": 2
}
