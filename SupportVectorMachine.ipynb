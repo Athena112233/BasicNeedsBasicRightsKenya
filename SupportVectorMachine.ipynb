{
 "cells": [
  {
   "cell_type": "code",
   "execution_count": 6,
   "metadata": {},
   "outputs": [],
   "source": [
    "import pandas as pd\n",
    "import numpy as np\n",
    "import matplotlib.pyplot as plt\n",
    "import os\n",
    "\n",
    "from sklearn.model_selection import train_test_split\n",
    "\n",
    "from sklearn.svm import LinearSVC\n",
    "from sklearn.naive_bayes import MultinomialNB\n",
    "\n",
    "from sklearn.feature_selection import chi2\n",
    "from sklearn.feature_extraction.text import CountVectorizer\n",
    "from sklearn.feature_extraction.text import TfidfVectorizer\n",
    "from sklearn.feature_extraction.text import TfidfTransformer\n",
    "\n",
    "from sklearn.metrics import accuracy_score"
   ]
  },
  {
   "cell_type": "code",
   "execution_count": 8,
   "metadata": {},
   "outputs": [],
   "source": [
    "train = pd.read_csv('data/train.csv')\n",
    "train.head(5)\n",
    "\n",
    "x_train = train['text']\n",
    "y_train = train['label'].replace({'Depression': 0, 'Drugs': 1, 'Suicide': 2, 'Alcohol': 3})"
   ]
  },
  {
   "cell_type": "code",
   "execution_count": 9,
   "metadata": {},
   "outputs": [],
   "source": [
    "#x_value = train['text']\n",
    "#y_value = train['label'].replace({'Depression': 0, 'Drugs': 1, 'Suicide': 2, 'Alcohol': 3})\n",
    "#x_train, x_test, y_train, y_test = train_test_split(x_value, y_value, test_size=0.25)"
   ]
  },
  {
   "cell_type": "code",
   "execution_count": 10,
   "metadata": {},
   "outputs": [],
   "source": [
    "#x_train"
   ]
  },
  {
   "cell_type": "code",
   "execution_count": 11,
   "metadata": {},
   "outputs": [],
   "source": [
    "#y_train"
   ]
  },
  {
   "cell_type": "code",
   "execution_count": 13,
   "metadata": {},
   "outputs": [],
   "source": [
    "vect = CountVectorizer()\n",
    "x_train_counts = vect.fit_transform(x_train)\n",
    "#x_test_counts = vect.transform(x_test)\n",
    "\n",
    "tfidf_transformer = TfidfTransformer()\n",
    "x_train_tfidf = tfidf_transformer.fit_transform(x_train_counts)\n",
    "#x_test_tfidf = tfidf_transformer.fit_transform(x_test_counts)"
   ]
  },
  {
   "cell_type": "code",
   "execution_count": 14,
   "metadata": {},
   "outputs": [],
   "source": [
    "clf = LinearSVC(C = 0.55)"
   ]
  },
  {
   "cell_type": "code",
   "execution_count": 15,
   "metadata": {},
   "outputs": [],
   "source": [
    "a = clf.fit(x_train_tfidf, y_train)"
   ]
  },
  {
   "cell_type": "code",
   "execution_count": 16,
   "metadata": {},
   "outputs": [
    {
     "data": {
      "text/plain": [
       "array([[ 0.86252138, -0.87820222, -1.11908964, -0.92752158],\n",
       "       [-0.55596803,  0.16695539, -0.6769077 , -0.89922648],\n",
       "       [ 0.81642278, -0.94148194, -0.9736579 , -0.93842431],\n",
       "       ...,\n",
       "       [-1.10371036, -0.77700064, -0.75403454,  0.46384059],\n",
       "       [ 1.18797859, -0.98983239, -1.15751183, -1.12297443],\n",
       "       [ 0.89652239, -1.12579148, -0.84324104, -1.14531141]])"
      ]
     },
     "execution_count": 16,
     "metadata": {},
     "output_type": "execute_result"
    }
   ],
   "source": [
    "clf.decision_function(x_train_tfidf) "
   ]
  },
  {
   "cell_type": "code",
   "execution_count": 165,
   "metadata": {},
   "outputs": [
    {
     "data": {
      "text/plain": [
       "array([0, 2, 0, 0, 2, 1, 1, 0, 1, 1, 0, 3, 1, 0, 1, 0, 1, 0, 3, 0, 2, 0,\n",
       "       0, 3, 3, 0, 0, 2, 3, 0, 3, 3, 0, 3, 2, 3, 0, 2, 0, 3, 0, 1, 2, 0,\n",
       "       0, 1, 3, 0, 3, 2, 0, 0, 3, 3, 2, 3, 0, 3, 0, 0, 1, 0, 3, 0, 2, 0,\n",
       "       0, 2, 0, 3, 0, 0, 3, 3, 0, 0, 0, 0, 0, 0, 2, 0, 2, 0, 3, 0, 0, 1,\n",
       "       0, 2, 0, 0, 0, 3, 0, 2, 0, 0, 3, 0, 3, 0, 1, 2, 0, 0, 0, 0, 0, 0,\n",
       "       3, 0, 0, 0, 3, 2, 0, 0, 0, 0, 0, 0, 2, 3, 2, 3, 3, 2, 2, 3, 0, 0,\n",
       "       0, 2, 0, 1, 3, 0, 3, 3, 0, 2, 0, 0, 3, 0, 1, 0, 3, 3, 0, 0, 0, 3],\n",
       "      dtype=int64)"
      ]
     },
     "execution_count": 165,
     "metadata": {},
     "output_type": "execute_result"
    }
   ],
   "source": [
    "a.predict(x_test_counts)"
   ]
  },
  {
   "cell_type": "code",
   "execution_count": 17,
   "metadata": {},
   "outputs": [],
   "source": [
    "test = pd.read_csv('data/Test.csv')"
   ]
  },
  {
   "cell_type": "code",
   "execution_count": 38,
   "metadata": {},
   "outputs": [
    {
     "data": {
      "text/html": [
       "<div>\n",
       "<style scoped>\n",
       "    .dataframe tbody tr th:only-of-type {\n",
       "        vertical-align: middle;\n",
       "    }\n",
       "\n",
       "    .dataframe tbody tr th {\n",
       "        vertical-align: top;\n",
       "    }\n",
       "\n",
       "    .dataframe thead th {\n",
       "        text-align: right;\n",
       "    }\n",
       "</style>\n",
       "<table border=\"1\" class=\"dataframe\">\n",
       "  <thead>\n",
       "    <tr style=\"text-align: right;\">\n",
       "      <th></th>\n",
       "      <th>ID</th>\n",
       "      <th>text</th>\n",
       "    </tr>\n",
       "  </thead>\n",
       "  <tbody>\n",
       "    <tr>\n",
       "      <th>0</th>\n",
       "      <td>02V56KMO</td>\n",
       "      <td>How to overcome bad feelings and emotions</td>\n",
       "    </tr>\n",
       "    <tr>\n",
       "      <th>1</th>\n",
       "      <td>03BMGTOK</td>\n",
       "      <td>I feel like giving up in life</td>\n",
       "    </tr>\n",
       "    <tr>\n",
       "      <th>2</th>\n",
       "      <td>03LZVFM6</td>\n",
       "      <td>I was so depressed feel like got no strength t...</td>\n",
       "    </tr>\n",
       "    <tr>\n",
       "      <th>3</th>\n",
       "      <td>0EPULUM5</td>\n",
       "      <td>I feel so low especially since I had no one to...</td>\n",
       "    </tr>\n",
       "    <tr>\n",
       "      <th>4</th>\n",
       "      <td>0GM4C5GD</td>\n",
       "      <td>can i be successful when I am a drug addict?</td>\n",
       "    </tr>\n",
       "    <tr>\n",
       "      <th>...</th>\n",
       "      <td>...</td>\n",
       "      <td>...</td>\n",
       "    </tr>\n",
       "    <tr>\n",
       "      <th>304</th>\n",
       "      <td>Z9A6ACLK</td>\n",
       "      <td>Yes</td>\n",
       "    </tr>\n",
       "    <tr>\n",
       "      <th>305</th>\n",
       "      <td>ZDUOIGKN</td>\n",
       "      <td>My girlfriend dumped me</td>\n",
       "    </tr>\n",
       "    <tr>\n",
       "      <th>306</th>\n",
       "      <td>ZHQ60CCH</td>\n",
       "      <td>How can I go back to being my old self?</td>\n",
       "    </tr>\n",
       "    <tr>\n",
       "      <th>307</th>\n",
       "      <td>ZVIJMA4O</td>\n",
       "      <td>Is it true bhang is  medicinal?</td>\n",
       "    </tr>\n",
       "    <tr>\n",
       "      <th>308</th>\n",
       "      <td>ZYIFAY98</td>\n",
       "      <td>how can I overcome the problem?</td>\n",
       "    </tr>\n",
       "  </tbody>\n",
       "</table>\n",
       "<p>309 rows × 2 columns</p>\n",
       "</div>"
      ],
      "text/plain": [
       "           ID                                               text\n",
       "0    02V56KMO          How to overcome bad feelings and emotions\n",
       "1    03BMGTOK                     I feel like giving up in life \n",
       "2    03LZVFM6  I was so depressed feel like got no strength t...\n",
       "3    0EPULUM5  I feel so low especially since I had no one to...\n",
       "4    0GM4C5GD       can i be successful when I am a drug addict?\n",
       "..        ...                                                ...\n",
       "304  Z9A6ACLK                                                Yes\n",
       "305  ZDUOIGKN                            My girlfriend dumped me\n",
       "306  ZHQ60CCH            How can I go back to being my old self?\n",
       "307  ZVIJMA4O                    Is it true bhang is  medicinal?\n",
       "308  ZYIFAY98                    how can I overcome the problem?\n",
       "\n",
       "[309 rows x 2 columns]"
      ]
     },
     "execution_count": 38,
     "metadata": {},
     "output_type": "execute_result"
    }
   ],
   "source": [
    "test"
   ]
  },
  {
   "cell_type": "code",
   "execution_count": 20,
   "metadata": {},
   "outputs": [],
   "source": [
    "x_test = test['text']\n",
    "x_test_counts = vect.transform(x_test)\n",
    "x_test_tfidf = tfidf_transformer.fit_transform(x_test_counts)"
   ]
  },
  {
   "cell_type": "code",
   "execution_count": 25,
   "metadata": {},
   "outputs": [],
   "source": [
    "results = pd.DataFrame(clf.decision_function(x_test_tfidf))"
   ]
  },
  {
   "cell_type": "code",
   "execution_count": 44,
   "metadata": {},
   "outputs": [],
   "source": [
    "test_result = pd.merge(test, results, left_index = True, right_index = True)[['ID', 0, 1, 2, 3]].rename(columns = {0: 'Depression', \n",
    "                                                                                                     1: 'Alcohol', \n",
    "                                                                                                     2: 'Suicide', \n",
    "                                                                                                     3: 'Drugs'}).set_index('ID')"
   ]
  },
  {
   "cell_type": "code",
   "execution_count": 45,
   "metadata": {},
   "outputs": [
    {
     "data": {
      "text/html": [
       "<div>\n",
       "<style scoped>\n",
       "    .dataframe tbody tr th:only-of-type {\n",
       "        vertical-align: middle;\n",
       "    }\n",
       "\n",
       "    .dataframe tbody tr th {\n",
       "        vertical-align: top;\n",
       "    }\n",
       "\n",
       "    .dataframe thead th {\n",
       "        text-align: right;\n",
       "    }\n",
       "</style>\n",
       "<table border=\"1\" class=\"dataframe\">\n",
       "  <thead>\n",
       "    <tr style=\"text-align: right;\">\n",
       "      <th></th>\n",
       "      <th>Depression</th>\n",
       "      <th>Alcohol</th>\n",
       "      <th>Suicide</th>\n",
       "      <th>Drugs</th>\n",
       "    </tr>\n",
       "    <tr>\n",
       "      <th>ID</th>\n",
       "      <th></th>\n",
       "      <th></th>\n",
       "      <th></th>\n",
       "      <th></th>\n",
       "    </tr>\n",
       "  </thead>\n",
       "  <tbody>\n",
       "    <tr>\n",
       "      <th>02V56KMO</th>\n",
       "      <td>0.133716</td>\n",
       "      <td>-1.061447</td>\n",
       "      <td>-0.665098</td>\n",
       "      <td>-0.456034</td>\n",
       "    </tr>\n",
       "    <tr>\n",
       "      <th>03BMGTOK</th>\n",
       "      <td>1.193052</td>\n",
       "      <td>-1.224791</td>\n",
       "      <td>-1.003438</td>\n",
       "      <td>-1.222990</td>\n",
       "    </tr>\n",
       "    <tr>\n",
       "      <th>03LZVFM6</th>\n",
       "      <td>1.756563</td>\n",
       "      <td>-1.279707</td>\n",
       "      <td>-1.130094</td>\n",
       "      <td>-1.546911</td>\n",
       "    </tr>\n",
       "    <tr>\n",
       "      <th>0EPULUM5</th>\n",
       "      <td>0.847033</td>\n",
       "      <td>-0.935309</td>\n",
       "      <td>-0.579285</td>\n",
       "      <td>-1.466742</td>\n",
       "    </tr>\n",
       "    <tr>\n",
       "      <th>0GM4C5GD</th>\n",
       "      <td>-0.142975</td>\n",
       "      <td>-0.098209</td>\n",
       "      <td>-1.113902</td>\n",
       "      <td>-0.666878</td>\n",
       "    </tr>\n",
       "    <tr>\n",
       "      <th>...</th>\n",
       "      <td>...</td>\n",
       "      <td>...</td>\n",
       "      <td>...</td>\n",
       "      <td>...</td>\n",
       "    </tr>\n",
       "    <tr>\n",
       "      <th>Z9A6ACLK</th>\n",
       "      <td>0.240426</td>\n",
       "      <td>-0.787936</td>\n",
       "      <td>-0.756916</td>\n",
       "      <td>-0.682932</td>\n",
       "    </tr>\n",
       "    <tr>\n",
       "      <th>ZDUOIGKN</th>\n",
       "      <td>0.159713</td>\n",
       "      <td>-0.960699</td>\n",
       "      <td>-0.376304</td>\n",
       "      <td>-0.798961</td>\n",
       "    </tr>\n",
       "    <tr>\n",
       "      <th>ZHQ60CCH</th>\n",
       "      <td>-0.463077</td>\n",
       "      <td>-0.994030</td>\n",
       "      <td>-0.258658</td>\n",
       "      <td>-0.394703</td>\n",
       "    </tr>\n",
       "    <tr>\n",
       "      <th>ZVIJMA4O</th>\n",
       "      <td>-0.933250</td>\n",
       "      <td>0.580426</td>\n",
       "      <td>-1.036550</td>\n",
       "      <td>-0.652593</td>\n",
       "    </tr>\n",
       "    <tr>\n",
       "      <th>ZYIFAY98</th>\n",
       "      <td>-0.347822</td>\n",
       "      <td>-1.148303</td>\n",
       "      <td>-0.619584</td>\n",
       "      <td>-0.026729</td>\n",
       "    </tr>\n",
       "  </tbody>\n",
       "</table>\n",
       "<p>309 rows × 4 columns</p>\n",
       "</div>"
      ],
      "text/plain": [
       "          Depression   Alcohol   Suicide     Drugs\n",
       "ID                                                \n",
       "02V56KMO    0.133716 -1.061447 -0.665098 -0.456034\n",
       "03BMGTOK    1.193052 -1.224791 -1.003438 -1.222990\n",
       "03LZVFM6    1.756563 -1.279707 -1.130094 -1.546911\n",
       "0EPULUM5    0.847033 -0.935309 -0.579285 -1.466742\n",
       "0GM4C5GD   -0.142975 -0.098209 -1.113902 -0.666878\n",
       "...              ...       ...       ...       ...\n",
       "Z9A6ACLK    0.240426 -0.787936 -0.756916 -0.682932\n",
       "ZDUOIGKN    0.159713 -0.960699 -0.376304 -0.798961\n",
       "ZHQ60CCH   -0.463077 -0.994030 -0.258658 -0.394703\n",
       "ZVIJMA4O   -0.933250  0.580426 -1.036550 -0.652593\n",
       "ZYIFAY98   -0.347822 -1.148303 -0.619584 -0.026729\n",
       "\n",
       "[309 rows x 4 columns]"
      ]
     },
     "execution_count": 45,
     "metadata": {},
     "output_type": "execute_result"
    }
   ],
   "source": [
    "test_result"
   ]
  },
  {
   "cell_type": "code",
   "execution_count": 47,
   "metadata": {},
   "outputs": [],
   "source": [
    "test_result.to_csv('output.csv')"
   ]
  },
  {
   "cell_type": "code",
   "execution_count": 158,
   "metadata": {},
   "outputs": [],
   "source": [
    "Cs = []\n",
    "for c in [0.001, 0.005, 0.008, 0.03, 0.5, 0.55, 0.6, 0.7, 1, 1.2, 1.5]:\n",
    "    clf = LinearSVC(C = c)\n",
    "    clf.fit(x_train_tfidf, y_train)\n",
    "    pred = clf.predict(x_test_tfidf)\n",
    "    test_acc = accuracy_score(y_test, pred)\n",
    "    train_acc = accuracy_score(y_train, clf.predict(x_train_tfidf))\n",
    "    Cs.append([c, test_acc, train_acc])"
   ]
  },
  {
   "cell_type": "code",
   "execution_count": 159,
   "metadata": {},
   "outputs": [
    {
     "data": {
      "text/html": [
       "<div>\n",
       "<style scoped>\n",
       "    .dataframe tbody tr th:only-of-type {\n",
       "        vertical-align: middle;\n",
       "    }\n",
       "\n",
       "    .dataframe tbody tr th {\n",
       "        vertical-align: top;\n",
       "    }\n",
       "\n",
       "    .dataframe thead th {\n",
       "        text-align: right;\n",
       "    }\n",
       "</style>\n",
       "<table border=\"1\" class=\"dataframe\">\n",
       "  <thead>\n",
       "    <tr style=\"text-align: right;\">\n",
       "      <th></th>\n",
       "      <th>0</th>\n",
       "      <th>1</th>\n",
       "      <th>2</th>\n",
       "    </tr>\n",
       "  </thead>\n",
       "  <tbody>\n",
       "    <tr>\n",
       "      <th>0</th>\n",
       "      <td>0.001</td>\n",
       "      <td>0.577922</td>\n",
       "      <td>0.569264</td>\n",
       "    </tr>\n",
       "    <tr>\n",
       "      <th>1</th>\n",
       "      <td>0.005</td>\n",
       "      <td>0.577922</td>\n",
       "      <td>0.569264</td>\n",
       "    </tr>\n",
       "    <tr>\n",
       "      <th>2</th>\n",
       "      <td>0.008</td>\n",
       "      <td>0.616883</td>\n",
       "      <td>0.590909</td>\n",
       "    </tr>\n",
       "    <tr>\n",
       "      <th>3</th>\n",
       "      <td>0.030</td>\n",
       "      <td>0.668831</td>\n",
       "      <td>0.694805</td>\n",
       "    </tr>\n",
       "    <tr>\n",
       "      <th>4</th>\n",
       "      <td>0.500</td>\n",
       "      <td>0.850649</td>\n",
       "      <td>0.982684</td>\n",
       "    </tr>\n",
       "    <tr>\n",
       "      <th>5</th>\n",
       "      <td>0.550</td>\n",
       "      <td>0.850649</td>\n",
       "      <td>0.984848</td>\n",
       "    </tr>\n",
       "    <tr>\n",
       "      <th>6</th>\n",
       "      <td>0.600</td>\n",
       "      <td>0.850649</td>\n",
       "      <td>0.987013</td>\n",
       "    </tr>\n",
       "    <tr>\n",
       "      <th>7</th>\n",
       "      <td>0.700</td>\n",
       "      <td>0.837662</td>\n",
       "      <td>0.987013</td>\n",
       "    </tr>\n",
       "    <tr>\n",
       "      <th>8</th>\n",
       "      <td>1.000</td>\n",
       "      <td>0.818182</td>\n",
       "      <td>0.991342</td>\n",
       "    </tr>\n",
       "    <tr>\n",
       "      <th>9</th>\n",
       "      <td>1.200</td>\n",
       "      <td>0.811688</td>\n",
       "      <td>0.991342</td>\n",
       "    </tr>\n",
       "    <tr>\n",
       "      <th>10</th>\n",
       "      <td>1.500</td>\n",
       "      <td>0.805195</td>\n",
       "      <td>0.993506</td>\n",
       "    </tr>\n",
       "  </tbody>\n",
       "</table>\n",
       "</div>"
      ],
      "text/plain": [
       "        0         1         2\n",
       "0   0.001  0.577922  0.569264\n",
       "1   0.005  0.577922  0.569264\n",
       "2   0.008  0.616883  0.590909\n",
       "3   0.030  0.668831  0.694805\n",
       "4   0.500  0.850649  0.982684\n",
       "5   0.550  0.850649  0.984848\n",
       "6   0.600  0.850649  0.987013\n",
       "7   0.700  0.837662  0.987013\n",
       "8   1.000  0.818182  0.991342\n",
       "9   1.200  0.811688  0.991342\n",
       "10  1.500  0.805195  0.993506"
      ]
     },
     "execution_count": 159,
     "metadata": {},
     "output_type": "execute_result"
    }
   ],
   "source": [
    "pd.DataFrame(Cs)"
   ]
  },
  {
   "cell_type": "code",
   "execution_count": null,
   "metadata": {},
   "outputs": [],
   "source": []
  },
  {
   "cell_type": "code",
   "execution_count": null,
   "metadata": {},
   "outputs": [],
   "source": []
  },
  {
   "cell_type": "code",
   "execution_count": null,
   "metadata": {},
   "outputs": [],
   "source": []
  }
 ],
 "metadata": {
  "kernelspec": {
   "display_name": "Python 3",
   "language": "python",
   "name": "python3"
  },
  "language_info": {
   "codemirror_mode": {
    "name": "ipython",
    "version": 3
   },
   "file_extension": ".py",
   "mimetype": "text/x-python",
   "name": "python",
   "nbconvert_exporter": "python",
   "pygments_lexer": "ipython3",
   "version": "3.7.3"
  }
 },
 "nbformat": 4,
 "nbformat_minor": 2
}
