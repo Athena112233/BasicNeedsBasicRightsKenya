{
 "cells": [
  {
   "cell_type": "code",
   "execution_count": 17,
   "metadata": {},
   "outputs": [],
   "source": [
    "import pandas as pd\n",
    "import numpy as np\n",
    "import matplotlib.pyplot as plt\n",
    "import os\n",
    "\n",
    "from sklearn.model_selection import train_test_split\n",
    "\n",
    "from sklearn.svm import LinearSVC\n",
    "from sklearn.naive_bayes import MultinomialNB\n",
    "\n",
    "from sklearn.feature_selection import chi2\n",
    "from sklearn.feature_extraction.text import CountVectorizer\n",
    "from sklearn.feature_extraction.text import TfidfVectorizer\n",
    "from sklearn.feature_extraction.text import TfidfTransformer"
   ]
  },
  {
   "cell_type": "code",
   "execution_count": 38,
   "metadata": {},
   "outputs": [
    {
     "data": {
      "text/html": [
       "<div>\n",
       "<style scoped>\n",
       "    .dataframe tbody tr th:only-of-type {\n",
       "        vertical-align: middle;\n",
       "    }\n",
       "\n",
       "    .dataframe tbody tr th {\n",
       "        vertical-align: top;\n",
       "    }\n",
       "\n",
       "    .dataframe thead th {\n",
       "        text-align: right;\n",
       "    }\n",
       "</style>\n",
       "<table border=\"1\" class=\"dataframe\">\n",
       "  <thead>\n",
       "    <tr style=\"text-align: right;\">\n",
       "      <th></th>\n",
       "      <th>ID</th>\n",
       "      <th>text</th>\n",
       "      <th>label</th>\n",
       "    </tr>\n",
       "  </thead>\n",
       "  <tbody>\n",
       "    <tr>\n",
       "      <td>0</td>\n",
       "      <td>SUAVK39Z</td>\n",
       "      <td>I feel that it was better I dieAm happy</td>\n",
       "      <td>Depression</td>\n",
       "    </tr>\n",
       "    <tr>\n",
       "      <td>1</td>\n",
       "      <td>9JDAGUV3</td>\n",
       "      <td>Why do I get hallucinations?</td>\n",
       "      <td>Drugs</td>\n",
       "    </tr>\n",
       "    <tr>\n",
       "      <td>2</td>\n",
       "      <td>419WR1LQ</td>\n",
       "      <td>I am stresseed due to lack of financial suppor...</td>\n",
       "      <td>Depression</td>\n",
       "    </tr>\n",
       "    <tr>\n",
       "      <td>3</td>\n",
       "      <td>6UY7DX6Q</td>\n",
       "      <td>Why is life important?</td>\n",
       "      <td>Suicide</td>\n",
       "    </tr>\n",
       "    <tr>\n",
       "      <td>4</td>\n",
       "      <td>FYC0FTFB</td>\n",
       "      <td>How could I be helped to go through the depres...</td>\n",
       "      <td>Depression</td>\n",
       "    </tr>\n",
       "    <tr>\n",
       "      <td>5</td>\n",
       "      <td>V6VSDJ5I</td>\n",
       "      <td>What are the effects of depression to ones health</td>\n",
       "      <td>Depression</td>\n",
       "    </tr>\n",
       "    <tr>\n",
       "      <td>6</td>\n",
       "      <td>9736J4UE</td>\n",
       "      <td>Why is everything so hard to deal with in this...</td>\n",
       "      <td>Depression</td>\n",
       "    </tr>\n",
       "    <tr>\n",
       "      <td>7</td>\n",
       "      <td>AY8L479Y</td>\n",
       "      <td>I feel emotionally overwhelmed</td>\n",
       "      <td>Depression</td>\n",
       "    </tr>\n",
       "    <tr>\n",
       "      <td>8</td>\n",
       "      <td>OSFJV5EC</td>\n",
       "      <td>How to manage taking alcohol?</td>\n",
       "      <td>Alcohol</td>\n",
       "    </tr>\n",
       "    <tr>\n",
       "      <td>9</td>\n",
       "      <td>U4SGUGGM</td>\n",
       "      <td>Is heaven open for us who smoke bhang?</td>\n",
       "      <td>Drugs</td>\n",
       "    </tr>\n",
       "    <tr>\n",
       "      <td>10</td>\n",
       "      <td>JGBMEUC1</td>\n",
       "      <td>How to survive without money?</td>\n",
       "      <td>Depression</td>\n",
       "    </tr>\n",
       "    <tr>\n",
       "      <td>11</td>\n",
       "      <td>LM8GPR0X</td>\n",
       "      <td>How do i stop this? What do I do when life bec...</td>\n",
       "      <td>Alcohol</td>\n",
       "    </tr>\n",
       "    <tr>\n",
       "      <td>12</td>\n",
       "      <td>EIF8Y8MX</td>\n",
       "      <td>I was ever sad,alone and always on drugsNow I ...</td>\n",
       "      <td>Depression</td>\n",
       "    </tr>\n",
       "    <tr>\n",
       "      <td>13</td>\n",
       "      <td>03TVUJ9J</td>\n",
       "      <td>I feel empty,absent minded</td>\n",
       "      <td>Depression</td>\n",
       "    </tr>\n",
       "    <tr>\n",
       "      <td>14</td>\n",
       "      <td>CBMIYRK7</td>\n",
       "      <td>I experienced depression in my studies</td>\n",
       "      <td>Depression</td>\n",
       "    </tr>\n",
       "    <tr>\n",
       "      <td>15</td>\n",
       "      <td>Y5MH83OX</td>\n",
       "      <td>I feel like am alone in this world</td>\n",
       "      <td>Depression</td>\n",
       "    </tr>\n",
       "    <tr>\n",
       "      <td>16</td>\n",
       "      <td>OHIWTBLA</td>\n",
       "      <td>I feel low and out of place</td>\n",
       "      <td>Depression</td>\n",
       "    </tr>\n",
       "    <tr>\n",
       "      <td>17</td>\n",
       "      <td>0LPO6TKU</td>\n",
       "      <td>What should i do to get out of depression?</td>\n",
       "      <td>Depression</td>\n",
       "    </tr>\n",
       "    <tr>\n",
       "      <td>18</td>\n",
       "      <td>WQG9NYO0</td>\n",
       "      <td>How can I stop using alcohol?</td>\n",
       "      <td>Alcohol</td>\n",
       "    </tr>\n",
       "    <tr>\n",
       "      <td>19</td>\n",
       "      <td>WYDRQKK9</td>\n",
       "      <td>I feel hopeless, unworthy and useless …How do ...</td>\n",
       "      <td>Depression</td>\n",
       "    </tr>\n",
       "    <tr>\n",
       "      <td>20</td>\n",
       "      <td>H6HGNIPM</td>\n",
       "      <td>Does mediataton help stop weed addiction?</td>\n",
       "      <td>Drugs</td>\n",
       "    </tr>\n",
       "    <tr>\n",
       "      <td>21</td>\n",
       "      <td>JJFB80YG</td>\n",
       "      <td>I feel bad because life difficulties, I also f...</td>\n",
       "      <td>Depression</td>\n",
       "    </tr>\n",
       "    <tr>\n",
       "      <td>22</td>\n",
       "      <td>SI6LH9S9</td>\n",
       "      <td>What are the effects of smoking bhang?</td>\n",
       "      <td>Drugs</td>\n",
       "    </tr>\n",
       "    <tr>\n",
       "      <td>23</td>\n",
       "      <td>P4T442GZ</td>\n",
       "      <td>Sadness,hatredNow feeling is happiness</td>\n",
       "      <td>Depression</td>\n",
       "    </tr>\n",
       "    <tr>\n",
       "      <td>24</td>\n",
       "      <td>6T60B8ZM</td>\n",
       "      <td>Feelings then were like everything was falling...</td>\n",
       "      <td>Depression</td>\n",
       "    </tr>\n",
       "    <tr>\n",
       "      <td>25</td>\n",
       "      <td>EL8WHB10</td>\n",
       "      <td>how do I cope with ta difficult situation?what...</td>\n",
       "      <td>Depression</td>\n",
       "    </tr>\n",
       "    <tr>\n",
       "      <td>26</td>\n",
       "      <td>K9DGPFW6</td>\n",
       "      <td>Deteriorating academic performance</td>\n",
       "      <td>Depression</td>\n",
       "    </tr>\n",
       "    <tr>\n",
       "      <td>27</td>\n",
       "      <td>46DPSGSJ</td>\n",
       "      <td>Effect of alcohol both in the society and my body</td>\n",
       "      <td>Alcohol</td>\n",
       "    </tr>\n",
       "    <tr>\n",
       "      <td>28</td>\n",
       "      <td>AWTMRJ2C</td>\n",
       "      <td>How could i stop using bhang</td>\n",
       "      <td>Drugs</td>\n",
       "    </tr>\n",
       "    <tr>\n",
       "      <td>29</td>\n",
       "      <td>Z38CHPES</td>\n",
       "      <td>How to avoid drug abuse?</td>\n",
       "      <td>Drugs</td>\n",
       "    </tr>\n",
       "    <tr>\n",
       "      <td>30</td>\n",
       "      <td>NUJNN8HA</td>\n",
       "      <td>How will I stop? What addiction means.</td>\n",
       "      <td>Alcohol</td>\n",
       "    </tr>\n",
       "    <tr>\n",
       "      <td>31</td>\n",
       "      <td>O7SRICTV</td>\n",
       "      <td>I feel rejected</td>\n",
       "      <td>Depression</td>\n",
       "    </tr>\n",
       "    <tr>\n",
       "      <td>32</td>\n",
       "      <td>TY6R8YBF</td>\n",
       "      <td>Is it right for depressed person to use drugs</td>\n",
       "      <td>Depression</td>\n",
       "    </tr>\n",
       "    <tr>\n",
       "      <td>33</td>\n",
       "      <td>4DDQ2BRX</td>\n",
       "      <td>I just stopped taking alcohol because i though...</td>\n",
       "      <td>Alcohol</td>\n",
       "    </tr>\n",
       "    <tr>\n",
       "      <td>34</td>\n",
       "      <td>CV11SA2H</td>\n",
       "      <td>How do I seek help from alcoholism</td>\n",
       "      <td>Alcohol</td>\n",
       "    </tr>\n",
       "    <tr>\n",
       "      <td>35</td>\n",
       "      <td>NYZTVG5E</td>\n",
       "      <td>i am  very stressed</td>\n",
       "      <td>Depression</td>\n",
       "    </tr>\n",
       "    <tr>\n",
       "      <td>36</td>\n",
       "      <td>G5GF4H7P</td>\n",
       "      <td>Main challenges of depression and their side e...</td>\n",
       "      <td>Depression</td>\n",
       "    </tr>\n",
       "    <tr>\n",
       "      <td>37</td>\n",
       "      <td>ZB73RBET</td>\n",
       "      <td>feel confused and helpless and was pushed to ...</td>\n",
       "      <td>Depression</td>\n",
       "    </tr>\n",
       "    <tr>\n",
       "      <td>38</td>\n",
       "      <td>93G4A70N</td>\n",
       "      <td>How  does one avoid bad company?</td>\n",
       "      <td>Drugs</td>\n",
       "    </tr>\n",
       "    <tr>\n",
       "      <td>39</td>\n",
       "      <td>X45W9Q0S</td>\n",
       "      <td>How to avoiod depression in campus</td>\n",
       "      <td>Depression</td>\n",
       "    </tr>\n",
       "    <tr>\n",
       "      <td>40</td>\n",
       "      <td>ZBUCI1MA</td>\n",
       "      <td>Causes of suicide by youths</td>\n",
       "      <td>Suicide</td>\n",
       "    </tr>\n",
       "    <tr>\n",
       "      <td>41</td>\n",
       "      <td>J9T35NVE</td>\n",
       "      <td>What are the effects of alcohol?</td>\n",
       "      <td>Alcohol</td>\n",
       "    </tr>\n",
       "    <tr>\n",
       "      <td>42</td>\n",
       "      <td>JP9NVFHD</td>\n",
       "      <td>I feel very low,how do I overcome it?</td>\n",
       "      <td>Depression</td>\n",
       "    </tr>\n",
       "    <tr>\n",
       "      <td>43</td>\n",
       "      <td>ML2SKCYN</td>\n",
       "      <td>I feel painful and unwanted</td>\n",
       "      <td>Depression</td>\n",
       "    </tr>\n",
       "    <tr>\n",
       "      <td>44</td>\n",
       "      <td>MT04SPT2</td>\n",
       "      <td>What can I do to change the situation?</td>\n",
       "      <td>Depression</td>\n",
       "    </tr>\n",
       "    <tr>\n",
       "      <td>45</td>\n",
       "      <td>G4VUYDC1</td>\n",
       "      <td>What to do to resist the bad feeling?</td>\n",
       "      <td>Depression</td>\n",
       "    </tr>\n",
       "    <tr>\n",
       "      <td>46</td>\n",
       "      <td>5M88BU4L</td>\n",
       "      <td>Too much classwork, and how do I cope ith many...</td>\n",
       "      <td>Depression</td>\n",
       "    </tr>\n",
       "    <tr>\n",
       "      <td>47</td>\n",
       "      <td>2ANINIO7</td>\n",
       "      <td>How can I stop alcohol</td>\n",
       "      <td>Alcohol</td>\n",
       "    </tr>\n",
       "    <tr>\n",
       "      <td>48</td>\n",
       "      <td>BXMHPTHE</td>\n",
       "      <td>I am facing a lot of challenges in life financ...</td>\n",
       "      <td>Depression</td>\n",
       "    </tr>\n",
       "    <tr>\n",
       "      <td>49</td>\n",
       "      <td>459AWRKP</td>\n",
       "      <td>I always feel down</td>\n",
       "      <td>Depression</td>\n",
       "    </tr>\n",
       "  </tbody>\n",
       "</table>\n",
       "</div>"
      ],
      "text/plain": [
       "          ID                                               text       label\n",
       "0   SUAVK39Z            I feel that it was better I dieAm happy  Depression\n",
       "1   9JDAGUV3                       Why do I get hallucinations?       Drugs\n",
       "2   419WR1LQ  I am stresseed due to lack of financial suppor...  Depression\n",
       "3   6UY7DX6Q                             Why is life important?     Suicide\n",
       "4   FYC0FTFB  How could I be helped to go through the depres...  Depression\n",
       "5   V6VSDJ5I  What are the effects of depression to ones health  Depression\n",
       "6   9736J4UE  Why is everything so hard to deal with in this...  Depression\n",
       "7   AY8L479Y                    I feel emotionally overwhelmed   Depression\n",
       "8   OSFJV5EC                      How to manage taking alcohol?     Alcohol\n",
       "9   U4SGUGGM             Is heaven open for us who smoke bhang?       Drugs\n",
       "10  JGBMEUC1                      How to survive without money?  Depression\n",
       "11  LM8GPR0X  How do i stop this? What do I do when life bec...     Alcohol\n",
       "12  EIF8Y8MX  I was ever sad,alone and always on drugsNow I ...  Depression\n",
       "13  03TVUJ9J                         I feel empty,absent minded  Depression\n",
       "14  CBMIYRK7             I experienced depression in my studies  Depression\n",
       "15  Y5MH83OX                 I feel like am alone in this world  Depression\n",
       "16  OHIWTBLA                        I feel low and out of place  Depression\n",
       "17  0LPO6TKU         What should i do to get out of depression?  Depression\n",
       "18  WQG9NYO0                      How can I stop using alcohol?     Alcohol\n",
       "19  WYDRQKK9  I feel hopeless, unworthy and useless …How do ...  Depression\n",
       "20  H6HGNIPM          Does mediataton help stop weed addiction?       Drugs\n",
       "21  JJFB80YG  I feel bad because life difficulties, I also f...  Depression\n",
       "22  SI6LH9S9             What are the effects of smoking bhang?       Drugs\n",
       "23  P4T442GZ             Sadness,hatredNow feeling is happiness  Depression\n",
       "24  6T60B8ZM  Feelings then were like everything was falling...  Depression\n",
       "25  EL8WHB10  how do I cope with ta difficult situation?what...  Depression\n",
       "26  K9DGPFW6                 Deteriorating academic performance  Depression\n",
       "27  46DPSGSJ  Effect of alcohol both in the society and my body     Alcohol\n",
       "28  AWTMRJ2C                       How could i stop using bhang       Drugs\n",
       "29  Z38CHPES                           How to avoid drug abuse?       Drugs\n",
       "30  NUJNN8HA             How will I stop? What addiction means.     Alcohol\n",
       "31  O7SRICTV                                    I feel rejected  Depression\n",
       "32  TY6R8YBF      Is it right for depressed person to use drugs  Depression\n",
       "33  4DDQ2BRX  I just stopped taking alcohol because i though...     Alcohol\n",
       "34  CV11SA2H                 How do I seek help from alcoholism     Alcohol\n",
       "35  NYZTVG5E                                i am  very stressed  Depression\n",
       "36  G5GF4H7P  Main challenges of depression and their side e...  Depression\n",
       "37  ZB73RBET   feel confused and helpless and was pushed to ...  Depression\n",
       "38  93G4A70N                   How  does one avoid bad company?       Drugs\n",
       "39  X45W9Q0S                 How to avoiod depression in campus  Depression\n",
       "40  ZBUCI1MA                        Causes of suicide by youths     Suicide\n",
       "41  J9T35NVE                   What are the effects of alcohol?     Alcohol\n",
       "42  JP9NVFHD              I feel very low,how do I overcome it?  Depression\n",
       "43  ML2SKCYN                        I feel painful and unwanted  Depression\n",
       "44  MT04SPT2             What can I do to change the situation?  Depression\n",
       "45  G4VUYDC1              What to do to resist the bad feeling?  Depression\n",
       "46  5M88BU4L  Too much classwork, and how do I cope ith many...  Depression\n",
       "47  2ANINIO7                             How can I stop alcohol     Alcohol\n",
       "48  BXMHPTHE  I am facing a lot of challenges in life financ...  Depression\n",
       "49  459AWRKP                                 I always feel down  Depression"
      ]
     },
     "execution_count": 38,
     "metadata": {},
     "output_type": "execute_result"
    }
   ],
   "source": [
    "train = pd.read_csv('data/train.csv')\n",
    "train.head(50)"
   ]
  },
  {
   "cell_type": "code",
   "execution_count": 21,
   "metadata": {},
   "outputs": [],
   "source": [
    "x_value = train['text']\n",
    "y_value = train['label']#.replace({'Depression': 0, 'Drugs': 1, 'Suicide': 2, 'Alcohol': 4})\n",
    "x_train, x_test, y_train, y_test = train_test_split(x_value, y_value, test_size=0.25)"
   ]
  },
  {
   "cell_type": "code",
   "execution_count": 11,
   "metadata": {},
   "outputs": [],
   "source": [
    "#depress = x_train[x_train['label'] == 'Depression']\n",
    "#drugs = x_train[x_train['label'] == 'Drugs']\n",
    "#suic = x_train[x_train['label'] == 'Suicide']\n",
    "#alc = x_train[x_train['label'] == 'Alcohol']"
   ]
  },
  {
   "cell_type": "code",
   "execution_count": 12,
   "metadata": {},
   "outputs": [
    {
     "data": {
      "image/png": "[encoded data removed]",
      "text/plain": [
       "<Figure size 576x432 with 1 Axes>"
      ]
     },
     "metadata": {
      "needs_background": "light"
     },
     "output_type": "display_data"
    }
   ],
   "source": [
    "fig = plt.figure(figsize=(8,6))\n",
    "train.groupby('label').text.count().plot.bar(ylim=0)\n",
    "plt.show()"
   ]
  },
  {
   "cell_type": "code",
   "execution_count": 14,
   "metadata": {},
   "outputs": [
    {
     "data": {
      "text/plain": [
       "(462, 72)"
      ]
     },
     "execution_count": 14,
     "metadata": {},
     "output_type": "execute_result"
    }
   ],
   "source": [
    "tfidf = TfidfVectorizer(sublinear_tf=True, min_df=5, norm='l2', encoding='latin-1',\\\n",
    "                        ngram_range=(1, 2), stop_words='english')\n",
    "features = tfidf.fit_transform(x_train['text']).toarray()\n",
    "#labels = y_train\n",
    "features.shape"
   ]
  },
  {
   "cell_type": "code",
   "execution_count": 22,
   "metadata": {},
   "outputs": [],
   "source": [
    "vect = CountVectorizer()\n",
    "x_train_counts = vect.fit_transform(x_train)\n",
    "tfidf_transformer = TfidfTransformer()\n",
    "x_train_tfidf = tfidf_transformer.fit_transform(x_train_counts)\n",
    "clf = MultinomialNB().fit(x_train_tfidf, y_train)"
   ]
  },
  {
   "cell_type": "code",
   "execution_count": 23,
   "metadata": {},
   "outputs": [
    {
     "name": "stdout",
     "output_type": "stream",
     "text": [
      "['Depression']\n"
     ]
    }
   ],
   "source": [
    "print(clf.predict(vect.transform([\"I feel that it was better I dieAm happy\"])))"
   ]
  },
  {
   "cell_type": "code",
   "execution_count": 24,
   "metadata": {},
   "outputs": [
    {
     "name": "stdout",
     "output_type": "stream",
     "text": [
      "[[-7.33578188e+00 -1.76133209e-03 -7.41367269e+00 -7.59088162e+00]]\n"
     ]
    }
   ],
   "source": [
    "print(clf.predict_log_proba(vect.transform([\"I feel that it was better I dieAm happy\"])))"
   ]
  },
  {
   "cell_type": "code",
   "execution_count": 25,
   "metadata": {},
   "outputs": [
    {
     "name": "stdout",
     "output_type": "stream",
     "text": [
      "[[6.51794078e-04 9.98240218e-01 6.02952167e-04 5.05035608e-04]]\n"
     ]
    }
   ],
   "source": [
    "print(clf.predict_proba(vect.transform([\"I feel that it was better I dieAm happy\"])))"
   ]
  },
  {
   "cell_type": "code",
   "execution_count": 31,
   "metadata": {},
   "outputs": [
    {
     "name": "stdout",
     "output_type": "stream",
     "text": [
      "['Alcohol']\n"
     ]
    }
   ],
   "source": [
    "print(clf.predict(vect.transform([\"How can someone stop it?\"])))"
   ]
  },
  {
   "cell_type": "code",
   "execution_count": 32,
   "metadata": {},
   "outputs": [
    {
     "name": "stdout",
     "output_type": "stream",
     "text": [
      "[[0.94779111 0.02488184 0.02166894 0.00565811]]\n"
     ]
    }
   ],
   "source": [
    "print(clf.predict_proba(vect.transform([\"How can someone stop it?\"])))"
   ]
  },
  {
   "cell_type": "code",
   "execution_count": 39,
   "metadata": {},
   "outputs": [
    {
     "name": "stdout",
     "output_type": "stream",
     "text": [
      "['Suicide']\n"
     ]
    }
   ],
   "source": [
    "print(clf.predict(vect.transform([\"Causes of suicide by youths\"])))"
   ]
  },
  {
   "cell_type": "code",
   "execution_count": 40,
   "metadata": {},
   "outputs": [
    {
     "name": "stdout",
     "output_type": "stream",
     "text": [
      "[[0.19494214 0.25240664 0.01884591 0.53380531]]\n"
     ]
    }
   ],
   "source": [
    "print(clf.predict_proba(vect.transform([\"Causes of suicide by youths\"])))"
   ]
  },
  {
   "cell_type": "code",
   "execution_count": 45,
   "metadata": {},
   "outputs": [
    {
     "name": "stdout",
     "output_type": "stream",
     "text": [
      "['Drugs']\n"
     ]
    }
   ],
   "source": [
    "print(clf.predict(vect.transform([\"What are the effects of smoking bhang?\"])))"
   ]
  },
  {
   "cell_type": "code",
   "execution_count": 46,
   "metadata": {},
   "outputs": [
    {
     "name": "stdout",
     "output_type": "stream",
     "text": [
      "[[0.19589638 0.14940968 0.65248128 0.00221266]]\n"
     ]
    }
   ],
   "source": [
    "print(clf.predict_proba(vect.transform([\"What are the effects of smoking bhang?\"])))"
   ]
  },
  {
   "cell_type": "code",
   "execution_count": 49,
   "metadata": {},
   "outputs": [
    {
     "data": {
      "text/plain": [
       "120"
      ]
     },
     "execution_count": 49,
     "metadata": {},
     "output_type": "execute_result"
    }
   ],
   "source": [
    "np.count_nonzero(clf.predict(vect.transform(x_test)) == y_test)"
   ]
  },
  {
   "cell_type": "code",
   "execution_count": 50,
   "metadata": {},
   "outputs": [
    {
     "data": {
      "text/plain": [
       "154"
      ]
     },
     "execution_count": 50,
     "metadata": {},
     "output_type": "execute_result"
    }
   ],
   "source": [
    "len(x_test)"
   ]
  },
  {
   "cell_type": "code",
   "execution_count": 51,
   "metadata": {},
   "outputs": [
    {
     "data": {
      "text/plain": [
       "0.7792207792207793"
      ]
     },
     "execution_count": 51,
     "metadata": {},
     "output_type": "execute_result"
    }
   ],
   "source": [
    "120/154"
   ]
  },
  {
   "cell_type": "code",
   "execution_count": 52,
   "metadata": {},
   "outputs": [
    {
     "data": {
      "text/plain": [
       "391"
      ]
     },
     "execution_count": 52,
     "metadata": {},
     "output_type": "execute_result"
    }
   ],
   "source": [
    "np.count_nonzero(clf.predict(vect.transform(x_train)) == y_train)"
   ]
  },
  {
   "cell_type": "code",
   "execution_count": 53,
   "metadata": {},
   "outputs": [
    {
     "data": {
      "text/plain": [
       "0.8463203463203464"
      ]
     },
     "execution_count": 53,
     "metadata": {},
     "output_type": "execute_result"
    }
   ],
   "source": [
    "391/len(x_train)"
   ]
  },
  {
   "cell_type": "code",
   "execution_count": null,
   "metadata": {},
   "outputs": [],
   "source": []
  }
 ],
 "metadata": {
  "kernelspec": {
   "display_name": "Python 3",
   "language": "python",
   "name": "python3"
  },
  "language_info": {
   "codemirror_mode": {
    "name": "ipython",
    "version": 3
   },
   "file_extension": ".py",
   "mimetype": "text/x-python",
   "name": "python",
   "nbconvert_exporter": "python",
   "pygments_lexer": "ipython3",
   "version": "3.7.4"
  }
 },
 "nbformat": 4,
 "nbformat_minor": 2
}
