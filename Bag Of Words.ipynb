{
 "cells": [
  {
   "cell_type": "code",
<<<<<<< HEAD
   "execution_count": 39,
=======
   "execution_count": 1,
>>>>>>> 32ff5662b666d7d06eb3500fa45afe804dab6184
   "metadata": {},
   "outputs": [],
   "source": [
    "import pandas as pd\n",
    "import numpy as np\n",
    "import matplotlib.pyplot as plt\n",
    "import os\n",
    "\n",
    "from sklearn.model_selection import train_test_split\n",
    "\n",
    "from sklearn.svm import LinearSVC\n",
    "\n",
    "from sklearn.naive_bayes import MultinomialNB\n",
    "from sklearn.naive_bayes import GaussianNB\n",
    "\n",
    "from sklearn.linear_model import LogisticRegression\n",
    "from sklearn.ensemble import RandomForestClassifier\n",
    "from sklearn.neighbors import KNeighborsClassifier\n",
    "\n",
    "from sklearn.feature_selection import chi2\n",
    "from sklearn.feature_extraction.text import CountVectorizer\n",
    "from sklearn.feature_extraction.text import TfidfVectorizer\n",
    "from sklearn.feature_extraction.text import TfidfTransformer\n",
    "\n",
    "from sklearn.metrics import log_loss"
   ]
  },
  {
   "cell_type": "code",
   "execution_count": 2,
   "metadata": {},
   "outputs": [
    {
     "data": {
      "text/html": [
       "<div>\n",
       "<style scoped>\n",
       "    .dataframe tbody tr th:only-of-type {\n",
       "        vertical-align: middle;\n",
       "    }\n",
       "\n",
       "    .dataframe tbody tr th {\n",
       "        vertical-align: top;\n",
       "    }\n",
       "\n",
       "    .dataframe thead th {\n",
       "        text-align: right;\n",
       "    }\n",
       "</style>\n",
       "<table border=\"1\" class=\"dataframe\">\n",
       "  <thead>\n",
       "    <tr style=\"text-align: right;\">\n",
       "      <th></th>\n",
       "      <th>ID</th>\n",
       "      <th>text</th>\n",
       "      <th>label</th>\n",
       "    </tr>\n",
       "  </thead>\n",
       "  <tbody>\n",
       "    <tr>\n",
       "      <th>0</th>\n",
       "      <td>SUAVK39Z</td>\n",
       "      <td>I feel that it was better I dieAm happy</td>\n",
       "      <td>Depression</td>\n",
       "    </tr>\n",
       "    <tr>\n",
       "      <th>1</th>\n",
       "      <td>9JDAGUV3</td>\n",
       "      <td>Why do I get hallucinations?</td>\n",
       "      <td>Drugs</td>\n",
       "    </tr>\n",
       "    <tr>\n",
       "      <th>2</th>\n",
       "      <td>419WR1LQ</td>\n",
       "      <td>I am stresseed due to lack of financial suppor...</td>\n",
       "      <td>Depression</td>\n",
       "    </tr>\n",
       "    <tr>\n",
       "      <th>3</th>\n",
       "      <td>6UY7DX6Q</td>\n",
       "      <td>Why is life important?</td>\n",
       "      <td>Suicide</td>\n",
       "    </tr>\n",
       "    <tr>\n",
       "      <th>4</th>\n",
       "      <td>FYC0FTFB</td>\n",
       "      <td>How could I be helped to go through the depres...</td>\n",
       "      <td>Depression</td>\n",
       "    </tr>\n",
       "    <tr>\n",
<<<<<<< HEAD
       "      <td>...</td>\n",
       "      <td>...</td>\n",
       "      <td>...</td>\n",
       "      <td>...</td>\n",
       "    </tr>\n",
       "    <tr>\n",
       "      <td>611</td>\n",
       "      <td>BOHSNXCN</td>\n",
       "      <td>What should I do to stop alcoholism?</td>\n",
       "      <td>Alcohol</td>\n",
       "    </tr>\n",
       "    <tr>\n",
       "      <td>612</td>\n",
       "      <td>GVDXRQPY</td>\n",
       "      <td>How to become my oldself again</td>\n",
       "      <td>Suicide</td>\n",
       "    </tr>\n",
       "    <tr>\n",
       "      <td>613</td>\n",
       "      <td>IO4JHIQS</td>\n",
       "      <td>How can someone stop it?</td>\n",
       "      <td>Alcohol</td>\n",
       "    </tr>\n",
       "    <tr>\n",
       "      <td>614</td>\n",
       "      <td>1DS3P1XO</td>\n",
       "      <td>I feel unworthy</td>\n",
       "      <td>Depression</td>\n",
       "    </tr>\n",
       "    <tr>\n",
       "      <td>615</td>\n",
       "      <td>ORF71PVQ</td>\n",
       "      <td>I feel so discouraged with life</td>\n",
=======
       "      <th>5</th>\n",
       "      <td>V6VSDJ5I</td>\n",
       "      <td>What are the effects of depression to ones health</td>\n",
       "      <td>Depression</td>\n",
       "    </tr>\n",
       "    <tr>\n",
       "      <th>6</th>\n",
       "      <td>9736J4UE</td>\n",
       "      <td>Why is everything so hard to deal with in this...</td>\n",
       "      <td>Depression</td>\n",
       "    </tr>\n",
       "    <tr>\n",
       "      <th>7</th>\n",
       "      <td>AY8L479Y</td>\n",
       "      <td>I feel emotionally overwhelmed</td>\n",
       "      <td>Depression</td>\n",
       "    </tr>\n",
       "    <tr>\n",
       "      <th>8</th>\n",
       "      <td>OSFJV5EC</td>\n",
       "      <td>How to manage taking alcohol?</td>\n",
       "      <td>Alcohol</td>\n",
       "    </tr>\n",
       "    <tr>\n",
       "      <th>9</th>\n",
       "      <td>U4SGUGGM</td>\n",
       "      <td>Is heaven open for us who smoke bhang?</td>\n",
       "      <td>Drugs</td>\n",
       "    </tr>\n",
       "    <tr>\n",
       "      <th>10</th>\n",
       "      <td>JGBMEUC1</td>\n",
       "      <td>How to survive without money?</td>\n",
       "      <td>Depression</td>\n",
       "    </tr>\n",
       "    <tr>\n",
       "      <th>11</th>\n",
       "      <td>LM8GPR0X</td>\n",
       "      <td>How do i stop this? What do I do when life bec...</td>\n",
       "      <td>Alcohol</td>\n",
       "    </tr>\n",
       "    <tr>\n",
       "      <th>12</th>\n",
       "      <td>EIF8Y8MX</td>\n",
       "      <td>I was ever sad,alone and always on drugsNow I ...</td>\n",
       "      <td>Depression</td>\n",
       "    </tr>\n",
       "    <tr>\n",
       "      <th>13</th>\n",
       "      <td>03TVUJ9J</td>\n",
       "      <td>I feel empty,absent minded</td>\n",
       "      <td>Depression</td>\n",
       "    </tr>\n",
       "    <tr>\n",
       "      <th>14</th>\n",
       "      <td>CBMIYRK7</td>\n",
       "      <td>I experienced depression in my studies</td>\n",
       "      <td>Depression</td>\n",
       "    </tr>\n",
       "    <tr>\n",
       "      <th>15</th>\n",
       "      <td>Y5MH83OX</td>\n",
       "      <td>I feel like am alone in this world</td>\n",
       "      <td>Depression</td>\n",
       "    </tr>\n",
       "    <tr>\n",
       "      <th>16</th>\n",
       "      <td>OHIWTBLA</td>\n",
       "      <td>I feel low and out of place</td>\n",
       "      <td>Depression</td>\n",
       "    </tr>\n",
       "    <tr>\n",
       "      <th>17</th>\n",
       "      <td>0LPO6TKU</td>\n",
       "      <td>What should i do to get out of depression?</td>\n",
       "      <td>Depression</td>\n",
       "    </tr>\n",
       "    <tr>\n",
       "      <th>18</th>\n",
       "      <td>WQG9NYO0</td>\n",
       "      <td>How can I stop using alcohol?</td>\n",
       "      <td>Alcohol</td>\n",
       "    </tr>\n",
       "    <tr>\n",
       "      <th>19</th>\n",
       "      <td>WYDRQKK9</td>\n",
       "      <td>I feel hopeless, unworthy and useless …How do ...</td>\n",
       "      <td>Depression</td>\n",
       "    </tr>\n",
       "    <tr>\n",
       "      <th>20</th>\n",
       "      <td>H6HGNIPM</td>\n",
       "      <td>Does mediataton help stop weed addiction?</td>\n",
       "      <td>Drugs</td>\n",
       "    </tr>\n",
       "    <tr>\n",
       "      <th>21</th>\n",
       "      <td>JJFB80YG</td>\n",
       "      <td>I feel bad because life difficulties, I also f...</td>\n",
       "      <td>Depression</td>\n",
       "    </tr>\n",
       "    <tr>\n",
       "      <th>22</th>\n",
       "      <td>SI6LH9S9</td>\n",
       "      <td>What are the effects of smoking bhang?</td>\n",
       "      <td>Drugs</td>\n",
       "    </tr>\n",
       "    <tr>\n",
       "      <th>23</th>\n",
       "      <td>P4T442GZ</td>\n",
       "      <td>Sadness,hatredNow feeling is happiness</td>\n",
       "      <td>Depression</td>\n",
       "    </tr>\n",
       "    <tr>\n",
       "      <th>24</th>\n",
       "      <td>6T60B8ZM</td>\n",
       "      <td>Feelings then were like everything was falling...</td>\n",
       "      <td>Depression</td>\n",
       "    </tr>\n",
       "    <tr>\n",
       "      <th>25</th>\n",
       "      <td>EL8WHB10</td>\n",
       "      <td>how do I cope with ta difficult situation?what...</td>\n",
       "      <td>Depression</td>\n",
       "    </tr>\n",
       "    <tr>\n",
       "      <th>26</th>\n",
       "      <td>K9DGPFW6</td>\n",
       "      <td>Deteriorating academic performance</td>\n",
       "      <td>Depression</td>\n",
       "    </tr>\n",
       "    <tr>\n",
       "      <th>27</th>\n",
       "      <td>46DPSGSJ</td>\n",
       "      <td>Effect of alcohol both in the society and my body</td>\n",
       "      <td>Alcohol</td>\n",
       "    </tr>\n",
       "    <tr>\n",
       "      <th>28</th>\n",
       "      <td>AWTMRJ2C</td>\n",
       "      <td>How could i stop using bhang</td>\n",
       "      <td>Drugs</td>\n",
       "    </tr>\n",
       "    <tr>\n",
       "      <th>29</th>\n",
       "      <td>Z38CHPES</td>\n",
       "      <td>How to avoid drug abuse?</td>\n",
       "      <td>Drugs</td>\n",
       "    </tr>\n",
       "    <tr>\n",
       "      <th>30</th>\n",
       "      <td>NUJNN8HA</td>\n",
       "      <td>How will I stop? What addiction means.</td>\n",
       "      <td>Alcohol</td>\n",
       "    </tr>\n",
       "    <tr>\n",
       "      <th>31</th>\n",
       "      <td>O7SRICTV</td>\n",
       "      <td>I feel rejected</td>\n",
       "      <td>Depression</td>\n",
       "    </tr>\n",
       "    <tr>\n",
       "      <th>32</th>\n",
       "      <td>TY6R8YBF</td>\n",
       "      <td>Is it right for depressed person to use drugs</td>\n",
       "      <td>Depression</td>\n",
       "    </tr>\n",
       "    <tr>\n",
       "      <th>33</th>\n",
       "      <td>4DDQ2BRX</td>\n",
       "      <td>I just stopped taking alcohol because i though...</td>\n",
       "      <td>Alcohol</td>\n",
       "    </tr>\n",
       "    <tr>\n",
       "      <th>34</th>\n",
       "      <td>CV11SA2H</td>\n",
       "      <td>How do I seek help from alcoholism</td>\n",
       "      <td>Alcohol</td>\n",
       "    </tr>\n",
       "    <tr>\n",
       "      <th>35</th>\n",
       "      <td>NYZTVG5E</td>\n",
       "      <td>i am  very stressed</td>\n",
       "      <td>Depression</td>\n",
       "    </tr>\n",
       "    <tr>\n",
       "      <th>36</th>\n",
       "      <td>G5GF4H7P</td>\n",
       "      <td>Main challenges of depression and their side e...</td>\n",
       "      <td>Depression</td>\n",
       "    </tr>\n",
       "    <tr>\n",
       "      <th>37</th>\n",
       "      <td>ZB73RBET</td>\n",
       "      <td>feel confused and helpless and was pushed to ...</td>\n",
       "      <td>Depression</td>\n",
       "    </tr>\n",
       "    <tr>\n",
       "      <th>38</th>\n",
       "      <td>93G4A70N</td>\n",
       "      <td>How  does one avoid bad company?</td>\n",
       "      <td>Drugs</td>\n",
       "    </tr>\n",
       "    <tr>\n",
       "      <th>39</th>\n",
       "      <td>X45W9Q0S</td>\n",
       "      <td>How to avoiod depression in campus</td>\n",
       "      <td>Depression</td>\n",
       "    </tr>\n",
       "    <tr>\n",
       "      <th>40</th>\n",
       "      <td>ZBUCI1MA</td>\n",
       "      <td>Causes of suicide by youths</td>\n",
       "      <td>Suicide</td>\n",
       "    </tr>\n",
       "    <tr>\n",
       "      <th>41</th>\n",
       "      <td>J9T35NVE</td>\n",
       "      <td>What are the effects of alcohol?</td>\n",
       "      <td>Alcohol</td>\n",
       "    </tr>\n",
       "    <tr>\n",
       "      <th>42</th>\n",
       "      <td>JP9NVFHD</td>\n",
       "      <td>I feel very low,how do I overcome it?</td>\n",
       "      <td>Depression</td>\n",
       "    </tr>\n",
       "    <tr>\n",
       "      <th>43</th>\n",
       "      <td>ML2SKCYN</td>\n",
       "      <td>I feel painful and unwanted</td>\n",
       "      <td>Depression</td>\n",
       "    </tr>\n",
       "    <tr>\n",
       "      <th>44</th>\n",
       "      <td>MT04SPT2</td>\n",
       "      <td>What can I do to change the situation?</td>\n",
       "      <td>Depression</td>\n",
       "    </tr>\n",
       "    <tr>\n",
       "      <th>45</th>\n",
       "      <td>G4VUYDC1</td>\n",
       "      <td>What to do to resist the bad feeling?</td>\n",
       "      <td>Depression</td>\n",
       "    </tr>\n",
       "    <tr>\n",
       "      <th>46</th>\n",
       "      <td>5M88BU4L</td>\n",
       "      <td>Too much classwork, and how do I cope ith many...</td>\n",
       "      <td>Depression</td>\n",
       "    </tr>\n",
       "    <tr>\n",
       "      <th>47</th>\n",
       "      <td>2ANINIO7</td>\n",
       "      <td>How can I stop alcohol</td>\n",
       "      <td>Alcohol</td>\n",
       "    </tr>\n",
       "    <tr>\n",
       "      <th>48</th>\n",
       "      <td>BXMHPTHE</td>\n",
       "      <td>I am facing a lot of challenges in life financ...</td>\n",
       "      <td>Depression</td>\n",
       "    </tr>\n",
       "    <tr>\n",
       "      <th>49</th>\n",
       "      <td>459AWRKP</td>\n",
       "      <td>I always feel down</td>\n",
>>>>>>> 32ff5662b666d7d06eb3500fa45afe804dab6184
       "      <td>Depression</td>\n",
       "    </tr>\n",
       "  </tbody>\n",
       "</table>\n",
       "<p>616 rows × 3 columns</p>\n",
       "</div>"
      ],
      "text/plain": [
       "           ID                                               text       label\n",
       "0    SUAVK39Z            I feel that it was better I dieAm happy  Depression\n",
       "1    9JDAGUV3                       Why do I get hallucinations?       Drugs\n",
       "2    419WR1LQ  I am stresseed due to lack of financial suppor...  Depression\n",
       "3    6UY7DX6Q                             Why is life important?     Suicide\n",
       "4    FYC0FTFB  How could I be helped to go through the depres...  Depression\n",
       "..        ...                                                ...         ...\n",
       "611  BOHSNXCN               What should I do to stop alcoholism?     Alcohol\n",
       "612  GVDXRQPY                     How to become my oldself again     Suicide\n",
       "613  IO4JHIQS                           How can someone stop it?     Alcohol\n",
       "614  1DS3P1XO                                   I feel unworthy   Depression\n",
       "615  ORF71PVQ                    I feel so discouraged with life  Depression\n",
       "\n",
       "[616 rows x 3 columns]"
      ]
     },
     "execution_count": 2,
     "metadata": {},
     "output_type": "execute_result"
    }
   ],
   "source": [
    "train = pd.read_csv('data/train.csv')\n",
    "train"
   ]
  },
  {
   "cell_type": "code",
   "execution_count": 3,
   "metadata": {},
   "outputs": [],
   "source": [
    "x_value = train['text']\n",
    "y_value = train['label']#.replace({'Depression': 0, 'Drugs': 1, 'Suicide': 2, 'Alcohol': 4})\n",
    "x_train, x_test, y_train, y_test = train_test_split(x_value, y_value, test_size=0.25)"
   ]
  },
  {
   "cell_type": "code",
   "execution_count": 4,
   "metadata": {},
   "outputs": [],
   "source": [
    "#depress = x_train[x_train['label'] == 'Depression']\n",
    "#drugs = x_train[x_train['label'] == 'Drugs']\n",
    "#suic = x_train[x_train['label'] == 'Suicide']\n",
    "#alc = x_train[x_train['label'] == 'Alcohol']"
   ]
  },
  {
   "cell_type": "code",
   "execution_count": 5,
   "metadata": {},
   "outputs": [
    {
     "data": {
      "image/png": "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\n",
      "text/plain": [
       "<Figure size 576x432 with 1 Axes>"
      ]
     },
     "metadata": {
      "needs_background": "light"
     },
     "output_type": "display_data"
    }
   ],
   "source": [
    "fig = plt.figure(figsize=(8,6))\n",
    "train.groupby('label').text.count().plot.bar(ylim=0)\n",
    "plt.show()"
   ]
  },
  {
   "cell_type": "code",
   "execution_count": 6,
   "metadata": {},
   "outputs": [
    {
     "data": {
      "text/plain": [
<<<<<<< HEAD
       "(462, 75)"
      ]
     },
     "execution_count": 6,
=======
       "348                                        Low and alone\n",
       "602    I did not ask for any assistance at first but ...\n",
       "574                                how should i avoid it\n",
       "407    I feel lost, unloved, used annd I just wanted ...\n",
       "284    How to deal with the problems which can lead t...\n",
       "                             ...                        \n",
       "474            Alcohol is caused by what issues and why?\n",
       "552                        How can i get back selfworth?\n",
       "79                             How can i stop using weed\n",
       "337                     How can I overcome peer pressure\n",
       "12     I was ever sad,alone and always on drugsNow I ...\n",
       "Name: text, Length: 462, dtype: object"
      ]
     },
     "execution_count": 6,
     "metadata": {},
     "output_type": "execute_result"
    }
   ],
   "source": [
    "x_train"
   ]
  },
  {
   "cell_type": "code",
   "execution_count": 253,
   "metadata": {},
   "outputs": [
    {
     "data": {
      "text/plain": [
       "(462, 79)"
      ]
     },
     "execution_count": 253,
>>>>>>> 32ff5662b666d7d06eb3500fa45afe804dab6184
     "metadata": {},
     "output_type": "execute_result"
    }
   ],
   "source": [
    "tfidf = TfidfVectorizer(sublinear_tf=True, min_df=5, norm='l2', encoding='latin-1',\\\n",
<<<<<<< HEAD
    "                        ngram_range=(1, 2), stop_words='english')\n",
=======
    "                        ngram_range=(1, 3), stop_words='english')\n",
>>>>>>> 32ff5662b666d7d06eb3500fa45afe804dab6184
    "features = tfidf.fit_transform(x_train).toarray()\n",
    "#labels = y_train\n",
    "features.shape"
   ]
  },
  {
   "cell_type": "code",
<<<<<<< HEAD
   "execution_count": 40,
=======
   "execution_count": 254,
>>>>>>> 32ff5662b666d7d06eb3500fa45afe804dab6184
   "metadata": {},
   "outputs": [],
   "source": [
    "vect = CountVectorizer()\n",
    "#x_train_counts = vect.fit_transform(x_train)\n",
    "#x_train_counts = tfidf.fit_transform(x_train)\n",
    "x_train_counts = tfidf.fit_transform(x_value)\n",
    "tfidf_transformer = TfidfTransformer()\n",
    "x_train_tfidf = tfidf_transformer.fit_transform(x_train_counts)\n",
    "#clf = MultinomialNB().fit(x_train_tfidf, y_train)\n",
    "#clf = LogisticRegression(solver='liblinear',multi_class='auto').fit(x_train_tfidf, y_value)\n",
    "clf = LinearSVC().fit(x_train_tfidf, y_value)\n",
    "#clf = RandomForestClassifier(n_estimators=20, max_depth=3).fit(x_train_tfidf, y_train)\n",
    "#clf = KNeighborsClassifier().fit(x_train_tfidf, y_train)"
   ]
  },
  {
   "cell_type": "code",
<<<<<<< HEAD
   "execution_count": 41,
=======
   "execution_count": 255,
>>>>>>> 32ff5662b666d7d06eb3500fa45afe804dab6184
   "metadata": {},
   "outputs": [
    {
     "name": "stdout",
     "output_type": "stream",
     "text": [
      "['Depression']\n"
     ]
    }
   ],
   "source": [
    "print(clf.predict(tfidf.transform([\"I feel that it was better I dieAm happy\"])))"
   ]
  },
  {
   "cell_type": "code",
   "execution_count": 256,
   "metadata": {},
   "outputs": [
    {
     "name": "stdout",
     "output_type": "stream",
     "text": [
      "[[-7.86666401e+00 -1.44302308e-03 -7.45052968e+00 -7.64686733e+00]]\n"
     ]
    }
   ],
   "source": [
    "print(clf.predict_log_proba(vect.transform([\"I feel that it was better I dieAm happy\"])))"
   ]
  },
  {
   "cell_type": "code",
<<<<<<< HEAD
   "execution_count": 43,
=======
   "execution_count": 257,
>>>>>>> 32ff5662b666d7d06eb3500fa45afe804dab6184
   "metadata": {},
   "outputs": [
    {
     "name": "stdout",
     "output_type": "stream",
     "text": [
<<<<<<< HEAD
      "[[-1.43369541  1.12977829 -1.01140373 -1.03132141]]\n"
=======
      "[[3.83310953e-04 9.98558018e-01 5.81133716e-04 4.77537756e-04]]\n"
>>>>>>> 32ff5662b666d7d06eb3500fa45afe804dab6184
     ]
    }
   ],
   "source": [
    "print(clf.predict_proba(tfidf.transform([\"I feel that it was better I dieAm happy\"])))"
   ]
  },
  {
   "cell_type": "code",
<<<<<<< HEAD
   "execution_count": 21,
=======
   "execution_count": 258,
>>>>>>> 32ff5662b666d7d06eb3500fa45afe804dab6184
   "metadata": {},
   "outputs": [
    {
     "name": "stdout",
     "output_type": "stream",
     "text": [
      "['Alcohol']\n"
     ]
    }
   ],
   "source": [
    "print(clf.predict(tfidf.transform([\"How can someone stop it?\"])))"
   ]
  },
  {
   "cell_type": "code",
<<<<<<< HEAD
   "execution_count": 22,
=======
   "execution_count": 259,
>>>>>>> 32ff5662b666d7d06eb3500fa45afe804dab6184
   "metadata": {},
   "outputs": [
    {
     "name": "stdout",
     "output_type": "stream",
     "text": [
<<<<<<< HEAD
      "[[0.64521187 0.10658235 0.20016982 0.04803596]]\n"
=======
      "[[0.97793701 0.01279835 0.00667851 0.00258612]]\n"
>>>>>>> 32ff5662b666d7d06eb3500fa45afe804dab6184
     ]
    }
   ],
   "source": [
    "print(clf.predict_proba(tfidf.transform([\"How can someone stop it?\"])))"
   ]
  },
  {
   "cell_type": "code",
   "execution_count": 260,
   "metadata": {},
   "outputs": [
    {
     "name": "stdout",
     "output_type": "stream",
     "text": [
      "['Suicide']\n"
     ]
    }
   ],
   "source": [
    "print(clf.predict(vect.transform([\"Causes of suicide by youths\"])))"
   ]
  },
  {
   "cell_type": "code",
   "execution_count": 261,
   "metadata": {},
   "outputs": [
    {
     "name": "stdout",
     "output_type": "stream",
     "text": [
      "[[0.1742042  0.21571086 0.02213188 0.58795307]]\n"
     ]
    }
   ],
   "source": [
    "print(clf.predict_proba(vect.transform([\"Causes of suicide by youths\"])))"
   ]
  },
  {
   "cell_type": "code",
   "execution_count": 262,
   "metadata": {},
   "outputs": [
    {
     "name": "stdout",
     "output_type": "stream",
     "text": [
      "['Drugs']\n"
     ]
    }
   ],
   "source": [
    "print(clf.predict(vect.transform([\"What are the effects of smoking bhang?\"])))"
   ]
  },
  {
   "cell_type": "code",
   "execution_count": 263,
   "metadata": {},
   "outputs": [
    {
     "name": "stdout",
     "output_type": "stream",
     "text": [
      "[[0.09187427 0.05870092 0.84742635 0.00199847]]\n"
     ]
    }
   ],
   "source": [
    "print(clf.predict_proba(vect.transform([\"What are the effects of smoking bhang?\"])))"
   ]
  },
  {
   "cell_type": "code",
<<<<<<< HEAD
   "execution_count": 28,
=======
   "execution_count": 264,
>>>>>>> 32ff5662b666d7d06eb3500fa45afe804dab6184
   "metadata": {},
   "outputs": [
    {
     "data": {
      "text/plain": [
<<<<<<< HEAD
       "0.8116883116883117"
      ]
     },
     "execution_count": 28,
=======
       "123"
      ]
     },
     "execution_count": 264,
>>>>>>> 32ff5662b666d7d06eb3500fa45afe804dab6184
     "metadata": {},
     "output_type": "execute_result"
    }
   ],
   "source": [
    "np.count_nonzero(clf.predict(tfidf.transform(x_test)) == y_test)/len(x_test)"
   ]
  },
  {
   "cell_type": "code",
<<<<<<< HEAD
   "execution_count": 29,
=======
   "execution_count": 265,
>>>>>>> 32ff5662b666d7d06eb3500fa45afe804dab6184
   "metadata": {},
   "outputs": [
    {
     "data": {
      "text/plain": [
       "0.841991341991342"
      ]
     },
<<<<<<< HEAD
     "execution_count": 29,
=======
     "execution_count": 265,
>>>>>>> 32ff5662b666d7d06eb3500fa45afe804dab6184
     "metadata": {},
     "output_type": "execute_result"
    }
   ],
   "source": [
    "np.count_nonzero(clf.predict(tfidf.transform(x_train)) == y_train)/len(x_train)"
   ]
  },
  {
   "cell_type": "code",
<<<<<<< HEAD
   "execution_count": 9,
=======
   "execution_count": 266,
>>>>>>> 32ff5662b666d7d06eb3500fa45afe804dab6184
   "metadata": {},
   "outputs": [
    {
     "data": {
      "text/html": [
       "<div>\n",
       "<style scoped>\n",
       "    .dataframe tbody tr th:only-of-type {\n",
       "        vertical-align: middle;\n",
       "    }\n",
       "\n",
       "    .dataframe tbody tr th {\n",
       "        vertical-align: top;\n",
       "    }\n",
       "\n",
       "    .dataframe thead th {\n",
       "        text-align: right;\n",
       "    }\n",
       "</style>\n",
       "<table border=\"1\" class=\"dataframe\">\n",
       "  <thead>\n",
       "    <tr style=\"text-align: right;\">\n",
       "      <th></th>\n",
       "      <th>ID</th>\n",
       "      <th>text</th>\n",
       "    </tr>\n",
       "  </thead>\n",
       "  <tbody>\n",
       "    <tr>\n",
       "      <td>0</td>\n",
       "      <td>02V56KMO</td>\n",
       "      <td>How to overcome bad feelings and emotions</td>\n",
       "    </tr>\n",
       "    <tr>\n",
       "      <td>1</td>\n",
       "      <td>03BMGTOK</td>\n",
       "      <td>I feel like giving up in life</td>\n",
       "    </tr>\n",
       "    <tr>\n",
       "      <td>2</td>\n",
       "      <td>03LZVFM6</td>\n",
       "      <td>I was so depressed feel like got no strength t...</td>\n",
       "    </tr>\n",
       "    <tr>\n",
       "      <td>3</td>\n",
       "      <td>0EPULUM5</td>\n",
       "      <td>I feel so low especially since I had no one to...</td>\n",
       "    </tr>\n",
       "    <tr>\n",
       "      <td>4</td>\n",
       "      <td>0GM4C5GD</td>\n",
       "      <td>can i be successful when I am a drug addict?</td>\n",
       "    </tr>\n",
       "    <tr>\n",
       "      <td>...</td>\n",
       "      <td>...</td>\n",
       "      <td>...</td>\n",
       "    </tr>\n",
       "    <tr>\n",
       "      <td>304</td>\n",
       "      <td>Z9A6ACLK</td>\n",
       "      <td>Yes</td>\n",
       "    </tr>\n",
       "    <tr>\n",
       "      <td>305</td>\n",
       "      <td>ZDUOIGKN</td>\n",
       "      <td>My girlfriend dumped me</td>\n",
       "    </tr>\n",
       "    <tr>\n",
       "      <td>306</td>\n",
       "      <td>ZHQ60CCH</td>\n",
       "      <td>How can I go back to being my old self?</td>\n",
       "    </tr>\n",
       "    <tr>\n",
       "      <td>307</td>\n",
       "      <td>ZVIJMA4O</td>\n",
       "      <td>Is it true bhang is  medicinal?</td>\n",
       "    </tr>\n",
       "    <tr>\n",
       "      <td>308</td>\n",
       "      <td>ZYIFAY98</td>\n",
       "      <td>how can I overcome the problem?</td>\n",
       "    </tr>\n",
       "  </tbody>\n",
       "</table>\n",
       "<p>309 rows × 2 columns</p>\n",
       "</div>"
      ],
      "text/plain": [
<<<<<<< HEAD
       "           ID                                               text\n",
       "0    02V56KMO          How to overcome bad feelings and emotions\n",
       "1    03BMGTOK                     I feel like giving up in life \n",
       "2    03LZVFM6  I was so depressed feel like got no strength t...\n",
       "3    0EPULUM5  I feel so low especially since I had no one to...\n",
       "4    0GM4C5GD       can i be successful when I am a drug addict?\n",
       "..        ...                                                ...\n",
       "304  Z9A6ACLK                                                Yes\n",
       "305  ZDUOIGKN                            My girlfriend dumped me\n",
       "306  ZHQ60CCH            How can I go back to being my old self?\n",
       "307  ZVIJMA4O                    Is it true bhang is  medicinal?\n",
       "308  ZYIFAY98                    how can I overcome the problem?\n",
       "\n",
       "[309 rows x 2 columns]"
      ]
     },
     "execution_count": 9,
=======
       "0.7987012987012987"
      ]
     },
     "execution_count": 266,
>>>>>>> 32ff5662b666d7d06eb3500fa45afe804dab6184
     "metadata": {},
     "output_type": "execute_result"
    }
   ],
   "source": [
<<<<<<< HEAD
    "test = pd.read_csv('data/test.csv')\n",
    "test"
   ]
  },
  {
   "cell_type": "code",
   "execution_count": 33,
   "metadata": {},
   "outputs": [],
   "source": [
    "results = clf.predict_proba(tfidf.transform(test['text']))"
   ]
  },
  {
   "cell_type": "code",
   "execution_count": 34,
   "metadata": {},
   "outputs": [],
   "source": [
    "output = pd.DataFrame(results, columns=['Alcohol', 'Depression', 'Drugs', 'Suicide'])\n",
    "order = ['Depression', 'Alcohol', 'Suicide', 'Drugs']\n",
    "output = output[order]\n",
    "output.insert(0, 'ID', test.ID)"
   ]
  },
  {
   "cell_type": "code",
   "execution_count": 35,
   "metadata": {},
   "outputs": [],
   "source": [
    "output.to_csv('data/output.csv', index=False)"
   ]
  },
  {
   "cell_type": "code",
   "execution_count": null,
   "metadata": {},
   "outputs": [],
   "source": [
    "log_loss(np.array(y_test), clf.predict(tfidf.transform(x_test)), eps=1e-15)"
=======
    "123/154"
>>>>>>> 32ff5662b666d7d06eb3500fa45afe804dab6184
   ]
  },
  {
   "cell_type": "code",
<<<<<<< HEAD
   "execution_count": 106,
=======
   "execution_count": 244,
>>>>>>> 32ff5662b666d7d06eb3500fa45afe804dab6184
   "metadata": {},
   "outputs": [
    {
     "data": {
      "text/plain": [
<<<<<<< HEAD
       "array(['Depression', 'Depression', 'Drugs', 'Depression', 'Suicide',\n",
       "       'Depression', 'Depression', 'Depression', 'Alcohol', 'Depression',\n",
       "       'Depression', 'Depression', 'Alcohol', 'Alcohol', 'Depression',\n",
       "       'Depression', 'Depression', 'Alcohol', 'Depression', 'Depression',\n",
       "       'Depression', 'Depression', 'Depression', 'Depression',\n",
       "       'Depression', 'Depression', 'Depression', 'Suicide', 'Alcohol',\n",
       "       'Depression', 'Depression', 'Depression', 'Depression',\n",
       "       'Depression', 'Depression', 'Depression', 'Depression',\n",
       "       'Depression', 'Depression', 'Suicide', 'Depression', 'Depression',\n",
       "       'Alcohol', 'Depression', 'Alcohol', 'Depression', 'Depression',\n",
       "       'Depression', 'Depression', 'Depression', 'Alcohol', 'Depression',\n",
       "       'Depression', 'Depression', 'Depression', 'Suicide', 'Drugs',\n",
       "       'Depression', 'Depression', 'Depression', 'Depression', 'Suicide',\n",
       "       'Depression', 'Depression', 'Depression', 'Depression',\n",
       "       'Depression', 'Depression', 'Depression', 'Depression',\n",
       "       'Depression', 'Drugs', 'Alcohol', 'Depression', 'Depression',\n",
       "       'Depression', 'Depression', 'Depression', 'Depression',\n",
       "       'Depression', 'Depression', 'Depression', 'Depression',\n",
       "       'Depression', 'Depression', 'Depression', 'Alcohol', 'Drugs',\n",
       "       'Depression', 'Suicide', 'Alcohol', 'Alcohol', 'Depression',\n",
       "       'Drugs', 'Alcohol', 'Depression', 'Depression', 'Depression',\n",
       "       'Depression', 'Depression', 'Alcohol', 'Depression', 'Depression',\n",
       "       'Depression', 'Drugs', 'Alcohol', 'Suicide', 'Drugs', 'Suicide',\n",
       "       'Depression', 'Depression', 'Depression', 'Depression', 'Alcohol',\n",
       "       'Alcohol', 'Alcohol', 'Depression', 'Depression', 'Alcohol',\n",
       "       'Suicide', 'Depression', 'Depression', 'Depression', 'Depression',\n",
       "       'Alcohol', 'Depression', 'Alcohol', 'Depression', 'Depression',\n",
       "       'Depression', 'Alcohol', 'Depression', 'Depression', 'Depression',\n",
       "       'Alcohol', 'Depression', 'Alcohol', 'Depression', 'Depression',\n",
       "       'Depression', 'Depression', 'Depression', 'Depression', 'Alcohol',\n",
       "       'Alcohol', 'Depression', 'Alcohol', 'Depression', 'Depression',\n",
       "       'Alcohol', 'Alcohol', 'Alcohol', 'Depression', 'Alcohol'],\n",
       "      dtype='<U10')"
      ]
     },
     "execution_count": 106,
=======
       "390"
      ]
     },
     "execution_count": 244,
>>>>>>> 32ff5662b666d7d06eb3500fa45afe804dab6184
     "metadata": {},
     "output_type": "execute_result"
    }
   ],
   "source": [
    "clf.predict(tfidf.transform(x_test))"
   ]
  },
  {
   "cell_type": "code",
<<<<<<< HEAD
   "execution_count": 112,
=======
   "execution_count": 245,
>>>>>>> 32ff5662b666d7d06eb3500fa45afe804dab6184
   "metadata": {},
   "outputs": [
    {
     "data": {
      "text/plain": [
       "array(['Depression', 'Depression', 'Drugs', 'Alcohol', 'Suicide',\n",
       "       'Depression', 'Depression', 'Depression', 'Alcohol', 'Suicide',\n",
       "       'Depression', 'Depression', 'Alcohol', 'Alcohol', 'Depression',\n",
       "       'Depression', 'Suicide', 'Drugs', 'Depression', 'Depression',\n",
       "       'Depression', 'Depression', 'Depression', 'Depression',\n",
       "       'Depression', 'Depression', 'Depression', 'Suicide', 'Alcohol',\n",
       "       'Depression', 'Depression', 'Depression', 'Depression',\n",
       "       'Depression', 'Depression', 'Depression', 'Depression',\n",
       "       'Depression', 'Depression', 'Suicide', 'Suicide', 'Depression',\n",
       "       'Alcohol', 'Alcohol', 'Alcohol', 'Depression', 'Depression',\n",
       "       'Drugs', 'Depression', 'Depression', 'Alcohol', 'Depression',\n",
       "       'Depression', 'Depression', 'Depression', 'Suicide', 'Drugs',\n",
       "       'Depression', 'Depression', 'Depression', 'Depression', 'Suicide',\n",
       "       'Depression', 'Depression', 'Depression', 'Alcohol', 'Depression',\n",
       "       'Depression', 'Depression', 'Depression', 'Depression', 'Drugs',\n",
       "       'Alcohol', 'Depression', 'Depression', 'Depression', 'Depression',\n",
       "       'Depression', 'Depression', 'Depression', 'Depression', 'Alcohol',\n",
       "       'Drugs', 'Depression', 'Suicide', 'Depression', 'Drugs', 'Drugs',\n",
       "       'Suicide', 'Suicide', 'Alcohol', 'Drugs', 'Depression', 'Drugs',\n",
       "       'Alcohol', 'Alcohol', 'Depression', 'Depression', 'Depression',\n",
       "       'Depression', 'Alcohol', 'Drugs', 'Drugs', 'Depression', 'Drugs',\n",
       "       'Alcohol', 'Suicide', 'Drugs', 'Suicide', 'Depression',\n",
       "       'Depression', 'Depression', 'Drugs', 'Alcohol', 'Alcohol',\n",
       "       'Alcohol', 'Depression', 'Depression', 'Alcohol', 'Depression',\n",
       "       'Depression', 'Depression', 'Depression', 'Depression',\n",
       "       'Depression', 'Suicide', 'Alcohol', 'Depression', 'Depression',\n",
       "       'Suicide', 'Alcohol', 'Depression', 'Depression', 'Drugs',\n",
       "       'Alcohol', 'Suicide', 'Alcohol', 'Depression', 'Depression',\n",
       "       'Depression', 'Depression', 'Depression', 'Depression', 'Alcohol',\n",
       "       'Alcohol', 'Suicide', 'Alcohol', 'Depression', 'Alcohol',\n",
       "       'Alcohol', 'Alcohol', 'Alcohol', 'Depression', 'Alcohol'],\n",
       "      dtype=object)"
      ]
     },
<<<<<<< HEAD
     "execution_count": 112,
=======
     "execution_count": 245,
>>>>>>> 32ff5662b666d7d06eb3500fa45afe804dab6184
     "metadata": {},
     "output_type": "execute_result"
    }
   ],
   "source": [
    "np.array(y_test)"
   ]
  },
  {
   "cell_type": "code",
   "execution_count": 267,
   "metadata": {},
   "outputs": [
    {
     "data": {
      "text/plain": [
       "array(['Alcohol', 'Depression', 'Depression', 'Depression', 'Depression',\n",
       "       'Depression', 'Depression', 'Depression', 'Depression',\n",
       "       'Depression', 'Alcohol', 'Depression', 'Depression', 'Depression',\n",
       "       'Alcohol', 'Depression', 'Depression', 'Alcohol', 'Depression',\n",
       "       'Depression', 'Depression', 'Alcohol', 'Depression', 'Depression',\n",
       "       'Depression', 'Depression', 'Depression', 'Depression',\n",
       "       'Depression', 'Depression', 'Depression', 'Depression',\n",
       "       'Depression', 'Depression', 'Depression', 'Depression',\n",
       "       'Depression', 'Depression', 'Depression', 'Alcohol', 'Alcohol',\n",
       "       'Depression', 'Alcohol', 'Depression', 'Depression', 'Alcohol',\n",
       "       'Depression', 'Depression', 'Depression', 'Depression',\n",
       "       'Depression', 'Depression', 'Depression', 'Depression',\n",
       "       'Depression', 'Depression', 'Depression', 'Depression', 'Alcohol',\n",
       "       'Depression', 'Alcohol', 'Depression', 'Alcohol', 'Alcohol',\n",
       "       'Depression', 'Depression', 'Depression', 'Depression',\n",
       "       'Depression', 'Alcohol', 'Suicide', 'Suicide', 'Depression',\n",
       "       'Alcohol', 'Depression', 'Depression', 'Depression', 'Alcohol',\n",
       "       'Depression', 'Depression', 'Depression', 'Depression',\n",
       "       'Depression', 'Alcohol', 'Depression', 'Depression', 'Alcohol',\n",
       "       'Depression', 'Alcohol', 'Suicide', 'Depression', 'Depression',\n",
       "       'Alcohol', 'Depression', 'Alcohol', 'Depression', 'Depression',\n",
       "       'Alcohol', 'Depression', 'Alcohol', 'Depression', 'Alcohol',\n",
       "       'Depression', 'Depression', 'Depression', 'Depression',\n",
       "       'Depression', 'Alcohol', 'Alcohol', 'Alcohol', 'Depression',\n",
       "       'Depression', 'Alcohol', 'Depression', 'Depression', 'Depression',\n",
       "       'Alcohol', 'Depression', 'Depression', 'Depression', 'Alcohol',\n",
       "       'Depression', 'Depression', 'Alcohol', 'Depression', 'Depression',\n",
       "       'Depression', 'Alcohol', 'Depression', 'Depression', 'Depression',\n",
       "       'Drugs', 'Depression', 'Depression', 'Depression', 'Alcohol',\n",
       "       'Depression', 'Depression', 'Alcohol', 'Alcohol', 'Depression',\n",
       "       'Alcohol', 'Depression', 'Depression', 'Depression', 'Depression',\n",
       "       'Depression', 'Depression', 'Depression', 'Depression',\n",
       "       'Depression', 'Depression', 'Alcohol', 'Depression'], dtype='<U10')"
      ]
     },
     "execution_count": 267,
     "metadata": {},
     "output_type": "execute_result"
    }
   ],
   "source": [
    "clf.predict(vect.transform(x_test))"
   ]
  },
  {
   "cell_type": "code",
   "execution_count": null,
   "metadata": {},
   "outputs": [],
   "source": []
  }
 ],
 "metadata": {
  "kernelspec": {
   "display_name": "Python 3",
   "language": "python",
   "name": "python3"
  },
  "language_info": {
   "codemirror_mode": {
    "name": "ipython",
    "version": 3
   },
   "file_extension": ".py",
   "mimetype": "text/x-python",
   "name": "python",
   "nbconvert_exporter": "python",
   "pygments_lexer": "ipython3",
   "version": "3.7.3"
  }
 },
 "nbformat": 4,
 "nbformat_minor": 2
}
